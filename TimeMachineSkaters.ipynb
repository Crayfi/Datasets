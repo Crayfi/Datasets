{
  "nbformat": 4,
  "nbformat_minor": 0,
  "metadata": {
    "colab": {
      "name": "TimeMachineSkaters.ipynb",
      "provenance": [],
      "authorship_tag": "ABX9TyNxVnOe1Le9En1/O2Wp930h",
      "include_colab_link": true
    },
    "kernelspec": {
      "name": "python3",
      "display_name": "Python 3"
    },
    "language_info": {
      "name": "python"
    }
  },
  "cells": [
    {
      "cell_type": "markdown",
      "metadata": {
        "id": "view-in-github",
        "colab_type": "text"
      },
      "source": [
        "<a href=\"https://colab.research.google.com/github/Crayfi/Datasets/blob/main/TimeMachineSkaters.ipynb\" target=\"_parent\"><img src=\"https://colab.research.google.com/assets/colab-badge.svg\" alt=\"Open In Colab\"/></a>"
      ]
    },
    {
      "cell_type": "code",
      "metadata": {
        "colab": {
          "base_uri": "https://localhost:8080/"
        },
        "id": "wizUAfod_Neu",
        "outputId": "3546634c-d815-45d3-fc7e-f2aa149bb91f"
      },
      "source": [
        "pip install --upgrade timemachines"
      ],
      "execution_count": 1,
      "outputs": [
        {
          "output_type": "stream",
          "name": "stdout",
          "text": [
            "Collecting timemachines\n",
            "  Downloading timemachines-0.14.7-py3-none-any.whl (139 kB)\n",
            "\u001b[?25l\r\u001b[K     |██▍                             | 10 kB 16.8 MB/s eta 0:00:01\r\u001b[K     |████▊                           | 20 kB 14.6 MB/s eta 0:00:01\r\u001b[K     |███████                         | 30 kB 10.7 MB/s eta 0:00:01\r\u001b[K     |█████████▍                      | 40 kB 9.4 MB/s eta 0:00:01\r\u001b[K     |███████████▊                    | 51 kB 5.8 MB/s eta 0:00:01\r\u001b[K     |██████████████                  | 61 kB 6.0 MB/s eta 0:00:01\r\u001b[K     |████████████████▍               | 71 kB 5.2 MB/s eta 0:00:01\r\u001b[K     |██████████████████▊             | 81 kB 5.8 MB/s eta 0:00:01\r\u001b[K     |█████████████████████           | 92 kB 5.8 MB/s eta 0:00:01\r\u001b[K     |███████████████████████▍        | 102 kB 5.5 MB/s eta 0:00:01\r\u001b[K     |█████████████████████████▊      | 112 kB 5.5 MB/s eta 0:00:01\r\u001b[K     |████████████████████████████    | 122 kB 5.5 MB/s eta 0:00:01\r\u001b[K     |██████████████████████████████▍ | 133 kB 5.5 MB/s eta 0:00:01\r\u001b[K     |████████████████████████████████| 139 kB 5.5 MB/s \n",
            "\u001b[?25hRequirement already satisfied: pathlib in /usr/local/lib/python3.7/dist-packages (from timemachines) (1.0.1)\n",
            "Requirement already satisfied: wheel in /usr/local/lib/python3.7/dist-packages (from timemachines) (0.37.0)\n",
            "Requirement already satisfied: requests in /usr/local/lib/python3.7/dist-packages (from timemachines) (2.23.0)\n",
            "Collecting getjson\n",
            "  Downloading getjson-1.0.0-py3-none-any.whl (2.6 kB)\n",
            "Collecting momentum>=0.2.1\n",
            "  Downloading momentum-0.2.1-py3-none-any.whl (6.8 kB)\n",
            "Requirement already satisfied: convertdate>=2.2.0 in /usr/local/lib/python3.7/dist-packages (from timemachines) (2.3.2)\n",
            "Requirement already satisfied: numpy>=1.19.5 in /usr/local/lib/python3.7/dist-packages (from timemachines) (1.19.5)\n",
            "Requirement already satisfied: pytz in /usr/local/lib/python3.7/dist-packages (from timemachines) (2018.9)\n",
            "Requirement already satisfied: importlib-metadata>=1.7.0 in /usr/local/lib/python3.7/dist-packages (from timemachines) (4.8.1)\n",
            "Collecting microconventions>=0.5.1\n",
            "  Downloading microconventions-0.5.1-py3-none-any.whl (15 kB)\n",
            "Requirement already satisfied: pymeeus<=1,>=0.3.13 in /usr/local/lib/python3.7/dist-packages (from convertdate>=2.2.0->timemachines) (0.5.11)\n",
            "Requirement already satisfied: zipp>=0.5 in /usr/local/lib/python3.7/dist-packages (from importlib-metadata>=1.7.0->timemachines) (3.6.0)\n",
            "Requirement already satisfied: typing-extensions>=3.6.4 in /usr/local/lib/python3.7/dist-packages (from importlib-metadata>=1.7.0->timemachines) (3.7.4.3)\n",
            "Requirement already satisfied: scipy in /usr/local/lib/python3.7/dist-packages (from microconventions>=0.5.1->timemachines) (1.4.1)\n",
            "Collecting schema\n",
            "  Downloading schema-0.7.4-py2.py3-none-any.whl (16 kB)\n",
            "Collecting deepdiff\n",
            "  Downloading deepdiff-5.6.0-py3-none-any.whl (68 kB)\n",
            "\u001b[K     |████████████████████████████████| 68 kB 3.8 MB/s \n",
            "\u001b[?25hCollecting tdigest\n",
            "  Downloading tdigest-0.5.2.2-py3-none-any.whl (9.4 kB)\n",
            "Collecting pymorton\n",
            "  Downloading pymorton-1.0.5-py2.py3-none-any.whl (4.4 kB)\n",
            "Collecting muid>=0.5.0\n",
            "  Downloading muid-0.5.0-py3-none-any.whl (173 kB)\n",
            "\u001b[K     |████████████████████████████████| 173 kB 41.5 MB/s \n",
            "\u001b[?25hCollecting contexttimer\n",
            "  Downloading contexttimer-0.3.3.tar.gz (4.9 kB)\n",
            "Collecting ordered-set==4.0.2\n",
            "  Downloading ordered-set-4.0.2.tar.gz (10 kB)\n",
            "Collecting backoff\n",
            "  Downloading backoff-1.11.1-py2.py3-none-any.whl (13 kB)\n",
            "Requirement already satisfied: urllib3!=1.25.0,!=1.25.1,<1.26,>=1.21.1 in /usr/local/lib/python3.7/dist-packages (from requests->timemachines) (1.24.3)\n",
            "Requirement already satisfied: idna<3,>=2.5 in /usr/local/lib/python3.7/dist-packages (from requests->timemachines) (2.10)\n",
            "Requirement already satisfied: certifi>=2017.4.17 in /usr/local/lib/python3.7/dist-packages (from requests->timemachines) (2021.5.30)\n",
            "Requirement already satisfied: chardet<4,>=3.0.2 in /usr/local/lib/python3.7/dist-packages (from requests->timemachines) (3.0.4)\n",
            "Requirement already satisfied: contextlib2>=0.5.5 in /usr/local/lib/python3.7/dist-packages (from schema->microconventions>=0.5.1->timemachines) (0.5.5)\n",
            "Collecting pyudorandom\n",
            "  Downloading pyudorandom-1.0.0.tar.gz (1.6 kB)\n",
            "Collecting accumulation-tree\n",
            "  Downloading accumulation_tree-0.6.2.tar.gz (12 kB)\n",
            "Building wheels for collected packages: contexttimer, ordered-set, accumulation-tree, pyudorandom\n",
            "  Building wheel for contexttimer (setup.py) ... \u001b[?25l\u001b[?25hdone\n",
            "  Created wheel for contexttimer: filename=contexttimer-0.3.3-py3-none-any.whl size=5818 sha256=a9393e9bb38cd72bee2e65aa0487da0b976c7a6429e6e3a0cf7fbed724e91c72\n",
            "  Stored in directory: /root/.cache/pip/wheels/03/8c/3b/8eba5888c3218e78f7fc4442198abb6db2bd1125c1bfcff183\n",
            "  Building wheel for ordered-set (setup.py) ... \u001b[?25l\u001b[?25hdone\n",
            "  Created wheel for ordered-set: filename=ordered_set-4.0.2-py2.py3-none-any.whl size=8219 sha256=cd97b19d180665a8b67507419b090045490d3f7e05f2883f73e0a9d3e4c6224a\n",
            "  Stored in directory: /root/.cache/pip/wheels/73/2b/f6/26e9f84153c25050fe7c09e88f8e32a6be3c7034a38c418319\n",
            "  Building wheel for accumulation-tree (setup.py) ... \u001b[?25l\u001b[?25hdone\n",
            "  Created wheel for accumulation-tree: filename=accumulation_tree-0.6.2-cp37-cp37m-linux_x86_64.whl size=234406 sha256=f3798864e7887908c53aec6a697a9d66690bf98199ce6bfe708c8fcdafc7d042\n",
            "  Stored in directory: /root/.cache/pip/wheels/42/32/0e/08020ae396bf92a3fd00971d0b81a6fb8f3e0681fd8912760d\n",
            "  Building wheel for pyudorandom (setup.py) ... \u001b[?25l\u001b[?25hdone\n",
            "  Created wheel for pyudorandom: filename=pyudorandom-1.0.0-py3-none-any.whl size=2221 sha256=1208177fd1c8967589313e8ab40c38885c05ab049d69930938da53482a527d92\n",
            "  Stored in directory: /root/.cache/pip/wheels/9b/d0/30/b2916c3efec5b42e574e99d479c032cfa4f13bd0713de1d194\n",
            "Successfully built contexttimer ordered-set accumulation-tree pyudorandom\n",
            "Installing collected packages: pyudorandom, ordered-set, contexttimer, backoff, accumulation-tree, tdigest, schema, pymorton, muid, getjson, deepdiff, momentum, microconventions, timemachines\n",
            "Successfully installed accumulation-tree-0.6.2 backoff-1.11.1 contexttimer-0.3.3 deepdiff-5.6.0 getjson-1.0.0 microconventions-0.5.1 momentum-0.2.1 muid-0.5.0 ordered-set-4.0.2 pymorton-1.0.5 pyudorandom-1.0.0 schema-0.7.4 tdigest-0.5.2.2 timemachines-0.14.7\n"
          ]
        }
      ]
    },
    {
      "cell_type": "code",
      "metadata": {
        "id": "WZn037QGKZbK"
      },
      "source": [
        "import pandas as pd\n",
        "\n",
        "try:\n",
        "  file = open('buy_average_fill_clean.csv', 'r')\n",
        "  df = pd.read_csv(file, error_bad_lines=False)\n",
        "  file2 = open('buy_quantity_clean.csv', 'r')\n",
        "  df_buy_quantity = pd.read_csv(file2, error_bad_lines=False)\n",
        "except:\n",
        "  try:\n",
        "    file = open('buy_average_fill.csv', 'r')\n",
        "    df = pd.read_csv(file, error_bad_lines=False)\n",
        "    file2 = open('buy_quantity.csv', 'r')\n",
        "    df_buy_quantity = pd.read_csv(file2, error_bad_lines=False)\n",
        "    #make first row of quantity 1s\n",
        "    df_buy_quantity.iloc[0] = [1]*len(df_buy_quantity.columns)\n",
        "    #remove duplicate entries\n",
        "    drop = []\n",
        "    for i in range(1, len(df)):\n",
        "      duplicates = [df.values[i][x] == df.values[i-1][x] for x in range(2, len(df.columns)) ]\n",
        "      if np.all(duplicates):\n",
        "        drop.append(i)\n",
        "    for i in drop:\n",
        "      df = df.drop([i])\n",
        "      df_buy_quantity = df_buy_quantity.drop([i])\n",
        "      \n",
        "    df.to_csv('buy_average_fill_clean.csv')\n",
        "    df_buy_quantity.to_csv('buy_quantity_clean.csv')\n",
        "  except:\n",
        "    try:\n",
        "      file = open('buy_average.csv', 'r')\n",
        "      df = pd.read_csv(file, error_bad_lines=False)\n",
        "\n",
        "      def fill_zeros(x):\n",
        "        # make first row all 1s\n",
        "        x.iloc[0] = [1]*len(x.columns)\n",
        "\n",
        "        # fill zeros in with previous price\n",
        "        for i in x.columns:\n",
        "          for j in range(len(x)):\n",
        "            #TODO update with historical data later\n",
        "            if (x[i][j] == 0 ):\n",
        "              x[i][j] = x[i][j-1]\n",
        "        return x\n",
        "\n",
        "      df = fill_zeros(df)\n",
        "      df.to_csv('buy_average_fill.csv')\n",
        "    except:\n",
        "      print('Can\\'t locate buy_average or buy_quantity ')"
      ],
      "execution_count": 13,
      "outputs": []
    },
    {
      "cell_type": "code",
      "metadata": {
        "colab": {
          "base_uri": "https://localhost:8080/",
          "height": 265
        },
        "id": "iR-bDfqT_WW1",
        "outputId": "46bf6041-e860-466e-e08a-625acd149261"
      },
      "source": [
        "from timemachines.skaters.simple.thinking import thinking_slow_and_slow\n",
        "from timemachines.skatertools.visualization.priorplot import prior_plot\n",
        "from timemachines.skatertools.data.real import hospital\n",
        "import matplotlib.pyplot as plt\n",
        "y = hospital(n=200)\n",
        "prior_plot(f=thinking_slow_and_slow,y=y)\n",
        "plt.show()"
      ],
      "execution_count": 2,
      "outputs": [
        {
          "output_type": "display_data",
          "data": {
            "image/png": "[encoded data removed]",
            "text/plain": [
              "<Figure size 432x288 with 1 Axes>"
            ]
          },
          "metadata": {
            "needs_background": "light"
          }
        }
      ]
    },
    {
      "cell_type": "code",
      "metadata": {
        "colab": {
          "base_uri": "https://localhost:8080/",
          "height": 265
        },
        "id": "609sciF__xjn",
        "outputId": "d41d0dfa-655a-4c8c-82fb-663d123103d2"
      },
      "source": [
        "y = hospital(n=200)\n",
        "prior_plot(f=thinking_slow_and_slow,y=y,k=5)\n",
        "plt.show()"
      ],
      "execution_count": 17,
      "outputs": [
        {
          "output_type": "display_data",
          "data": {
            "image/png": "[encoded data removed]",
            "text/plain": [
              "<Figure size 432x288 with 1 Axes>"
            ]
          },
          "metadata": {
            "needs_background": "light"
          }
        }
      ]
    },
    {
      "cell_type": "code",
      "metadata": {
        "colab": {
          "base_uri": "https://localhost:8080/"
        },
        "id": "QYtT5GrdLnt-",
        "outputId": "1204ccd9-e0f9-48f7-8543-679485c3b500"
      },
      "source": [
        "y"
      ],
      "execution_count": 18,
      "outputs": [
        {
          "output_type": "execute_result",
          "data": {
            "text/plain": [
              "[146.0,\n",
              " 126.0,\n",
              " 126.0,\n",
              " 124.0,\n",
              " 124.0,\n",
              " 157.0,\n",
              " 157.0,\n",
              " 155.0,\n",
              " 155.0,\n",
              " 230.0,\n",
              " 230.0,\n",
              " 265.0,\n",
              " 265.0,\n",
              " 221.0,\n",
              " 221.0,\n",
              " 194.0,\n",
              " 194.0,\n",
              " 181.0,\n",
              " 248.0,\n",
              " 248.0,\n",
              " 248.0,\n",
              " 214.0,\n",
              " 214.0,\n",
              " 172.0,\n",
              " 172.0,\n",
              " 201.0,\n",
              " 201.0,\n",
              " 216.0,\n",
              " 216.0,\n",
              " 179.0,\n",
              " 179.0,\n",
              " 232.0,\n",
              " 232.0,\n",
              " 202.0,\n",
              " 202.0,\n",
              " 195.0,\n",
              " 195.0,\n",
              " 190.0,\n",
              " 190.0,\n",
              " 185.0,\n",
              " 185.0,\n",
              " 201.0,\n",
              " 201.0,\n",
              " 221.0,\n",
              " 221.0,\n",
              " 214.0,\n",
              " 214.0,\n",
              " 213.0,\n",
              " 213.0,\n",
              " 215.0,\n",
              " 215.0,\n",
              " 199.0,\n",
              " 199.0,\n",
              " 183.0,\n",
              " 183.0,\n",
              " 201.0,\n",
              " 201.0,\n",
              " 197.0,\n",
              " 197.0,\n",
              " 181.0,\n",
              " 181.0,\n",
              " 177.0,\n",
              " 177.0,\n",
              " 193.0,\n",
              " 193.0,\n",
              " 179.0,\n",
              " 179.0,\n",
              " 192.0,\n",
              " 192.0,\n",
              " 177.0,\n",
              " 177.0,\n",
              " 187.0,\n",
              " 187.0,\n",
              " 177.0,\n",
              " 177.0,\n",
              " 201.0,\n",
              " 201.0,\n",
              " 209.0,\n",
              " 209.0,\n",
              " 202.0,\n",
              " 202.0,\n",
              " 188.0,\n",
              " 188.0,\n",
              " 145.0,\n",
              " 145.0,\n",
              " 139.0,\n",
              " 139.0,\n",
              " 150.0,\n",
              " 150.0,\n",
              " 136.0,\n",
              " 136.0,\n",
              " 114.0,\n",
              " 114.0,\n",
              " 96.0,\n",
              " 96.0,\n",
              " 78.0,\n",
              " 78.0,\n",
              " 56.0,\n",
              " 56.0,\n",
              " 53.0,\n",
              " 53.0,\n",
              " 50.0,\n",
              " 50.0,\n",
              " 43.0,\n",
              " 43.0,\n",
              " 37.0,\n",
              " 37.0,\n",
              " 43.0,\n",
              " 43.0,\n",
              " 53.0,\n",
              " 53.0,\n",
              " 58.0,\n",
              " 58.0,\n",
              " 60.0,\n",
              " 60.0,\n",
              " 50.0,\n",
              " 50.0,\n",
              " 42.0,\n",
              " 42.0,\n",
              " 40.0,\n",
              " 40.0,\n",
              " 36.0,\n",
              " 36.0,\n",
              " 42.0,\n",
              " 42.0,\n",
              " 39.0,\n",
              " 39.0,\n",
              " 30.0,\n",
              " 30.0,\n",
              " 14.0,\n",
              " 14.0,\n",
              " 23.0,\n",
              " 23.0,\n",
              " 23.0,\n",
              " 23.0,\n",
              " 10.0,\n",
              " 10.0,\n",
              " 16.0,\n",
              " 16.0,\n",
              " 15.0,\n",
              " 15.0,\n",
              " 5.0,\n",
              " 5.0,\n",
              " 49.0,\n",
              " 49.0,\n",
              " 72.0,\n",
              " 72.0,\n",
              " 97.0,\n",
              " 97.0,\n",
              " 107.0,\n",
              " 107.0,\n",
              " 81.0,\n",
              " 81.0,\n",
              " 82.0,\n",
              " 82.0,\n",
              " 109.0,\n",
              " 109.0,\n",
              " 123.0,\n",
              " 123.0,\n",
              " 99.0,\n",
              " 99.0,\n",
              " 102.0,\n",
              " 102.0,\n",
              " 132.0,\n",
              " 132.0,\n",
              " 154.0,\n",
              " 154.0,\n",
              " 172.0,\n",
              " 172.0,\n",
              " 153.0,\n",
              " 153.0,\n",
              " 149.0,\n",
              " 149.0,\n",
              " 150.0,\n",
              " 150.0,\n",
              " 136.0,\n",
              " 136.0,\n",
              " 130.0,\n",
              " 130.0,\n",
              " 118.0,\n",
              " 118.0,\n",
              " 92.0,\n",
              " 92.0,\n",
              " 92.0,\n",
              " 92.0,\n",
              " 105.0,\n",
              " 105.0,\n",
              " 82.0,\n",
              " 82.0,\n",
              " 78.0,\n",
              " 78.0,\n",
              " 72.0,\n",
              " 72.0,\n",
              " 58.0,\n",
              " 58.0,\n",
              " 53.0,\n",
              " 53.0,\n",
              " 60.0,\n",
              " 60.0,\n",
              " 50.0]"
            ]
          },
          "metadata": {},
          "execution_count": 18
        }
      ]
    },
    {
      "cell_type": "code",
      "metadata": {
        "colab": {
          "base_uri": "https://localhost:8080/",
          "height": 163
        },
        "id": "uLR76MwqLjfn",
        "outputId": "1fef2d61-400b-4907-c844-67c95dc6c608"
      },
      "source": [
        "list(df.Cannonball.values[1:].to_array())"
      ],
      "execution_count": 23,
      "outputs": [
        {
          "output_type": "error",
          "ename": "AttributeError",
          "evalue": "ignored",
          "traceback": [
            "\u001b[0;31m---------------------------------------------------------------------------\u001b[0m",
            "\u001b[0;31mAttributeError\u001b[0m                            Traceback (most recent call last)",
            "\u001b[0;32m<ipython-input-23-b407e360c865>\u001b[0m in \u001b[0;36m<module>\u001b[0;34m()\u001b[0m\n\u001b[0;32m----> 1\u001b[0;31m \u001b[0mlist\u001b[0m\u001b[0;34m(\u001b[0m\u001b[0mdf\u001b[0m\u001b[0;34m.\u001b[0m\u001b[0mCannonball\u001b[0m\u001b[0;34m.\u001b[0m\u001b[0mvalues\u001b[0m\u001b[0;34m[\u001b[0m\u001b[0;36m1\u001b[0m\u001b[0;34m:\u001b[0m\u001b[0;34m]\u001b[0m\u001b[0;34m.\u001b[0m\u001b[0mto_array\u001b[0m\u001b[0;34m(\u001b[0m\u001b[0;34m)\u001b[0m\u001b[0;34m)\u001b[0m\u001b[0;34m\u001b[0m\u001b[0;34m\u001b[0m\u001b[0m\n\u001b[0m",
            "\u001b[0;31mAttributeError\u001b[0m: 'numpy.ndarray' object has no attribute 'to_array'"
          ]
        }
      ]
    },
    {
      "cell_type": "code",
      "metadata": {
        "colab": {
          "base_uri": "https://localhost:8080/",
          "height": 265
        },
        "id": "LUPf8Pk5G9Ws",
        "outputId": "da28e849-2e70-476f-d3eb-a1477103e638"
      },
      "source": [
        "\n",
        "y = df.Cannonball.values[1:].tolist()\n",
        "prior_plot(f=thinking_slow_and_slow,y=y,k=5)\n",
        "plt.show()"
      ],
      "execution_count": 24,
      "outputs": [
        {
          "output_type": "display_data",
          "data": {
            "image/png": "[encoded data removed]",
            "text/plain": [
              "<Figure size 432x288 with 1 Axes>"
            ]
          },
          "metadata": {
            "needs_background": "light"
          }
        }
      ]
    }
  ]
}
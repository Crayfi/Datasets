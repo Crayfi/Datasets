{
  "nbformat": 4,
  "nbformat_minor": 0,
  "metadata": {
    "colab": {
      "name": "ArrayIssue.ipynb",
      "provenance": [],
      "authorship_tag": "ABX9TyPb8HKaMPA5lNnbc3AHSz7Q",
      "include_colab_link": true
    },
    "kernelspec": {
      "name": "python3",
      "display_name": "Python 3"
    },
    "language_info": {
      "name": "python"
    }
  },
  "cells": [
    {
      "cell_type": "markdown",
      "metadata": {
        "id": "view-in-github",
        "colab_type": "text"
      },
      "source": [
        "<a href=\"https://colab.research.google.com/github/Crayfi/Datasets/blob/main/ArrayIssue.ipynb\" target=\"_parent\"><img src=\"https://colab.research.google.com/assets/colab-badge.svg\" alt=\"Open In Colab\"/></a>"
      ]
    },
    {
      "cell_type": "code",
      "metadata": {
        "id": "kaKKHo5B7zdm"
      },
      "source": [
        "import numpy as np\n",
        "import pandas as pd\n",
        "from sklearn.preprocessing import MinMaxScaler"
      ],
      "execution_count": 3,
      "outputs": []
    },
    {
      "cell_type": "code",
      "metadata": {
        "id": "OpIYHLV18VPC"
      },
      "source": [
        "stepsForward = 3\n",
        "stepsBack = 7\n",
        "trainTestSplit = 0.75"
      ],
      "execution_count": 4,
      "outputs": []
    },
    {
      "cell_type": "code",
      "metadata": {
        "colab": {
          "base_uri": "https://localhost:8080/"
        },
        "id": "4foIrCD67j9x",
        "outputId": "fe524079-8b12-4236-fa24-dc45262094dc"
      },
      "source": [
        "file = open('cannonball.csv', 'r')\n",
        "df = pd.read_csv(file, error_bad_lines=False)\n",
        "df_item = pd.DataFrame(df.Cannonball)\n",
        "\n",
        "minmax = MinMaxScaler().fit(df_item.values.reshape((-1,1))[1:])\n",
        "df_normalize = minmax.transform(df_item.values.reshape((-1,1))[1:])\n",
        "\n",
        "def walk_forward(X, stepsBack, stepsForward, trainTestSplit):\n",
        "  n_records = len(X)\n",
        "  dfx = X[:]\n",
        "  split = int(n_records*trainTestSplit-stepsForward)\n",
        "  x = []\n",
        "  y = []\n",
        "  for i in range(n_records):\n",
        "    x.append(dfx[i : i + stepsBack])  \n",
        "    y.append(dfx[i + stepsBack : i + stepsBack + stepsForward])\n",
        "\n",
        "  xtrain = x[:split]\n",
        "  ytrain = y[:split]\n",
        "\n",
        "  xtest = x[: n_records - stepsForward]\n",
        "  ytest = y[: n_records - stepsForward]\n",
        "\t\n",
        "  return xtrain, ytrain, xtest, ytest\n",
        "\n",
        "X_train, y_train, X_test, y_test = walk_forward(df_normalize, stepsBack, stepsForward, trainTestSplit)\n",
        "\n",
        "print('train=%d, test=%d' % (len(X_train), len(X_test))) "
      ],
      "execution_count": 38,
      "outputs": [
        {
          "output_type": "stream",
          "name": "stdout",
          "text": [
            "train=2124, test=2834\n"
          ]
        }
      ]
    },
    {
      "cell_type": "code",
      "metadata": {
        "colab": {
          "base_uri": "https://localhost:8080/"
        },
        "id": "c7ms6Pjx8XP7",
        "outputId": "f5ff791a-bd30-49ad-c4f5-21f8942ee2e1"
      },
      "source": [
        "np.array(X_train)[:3]"
      ],
      "execution_count": 40,
      "outputs": [
        {
          "output_type": "execute_result",
          "data": {
            "text/plain": [
              "array([[[0.77777778],\n",
              "        [0.77777778],\n",
              "        [0.77777778],\n",
              "        [0.83333333],\n",
              "        [0.83333333],\n",
              "        [0.83333333],\n",
              "        [0.83333333]],\n",
              "\n",
              "       [[0.77777778],\n",
              "        [0.77777778],\n",
              "        [0.83333333],\n",
              "        [0.83333333],\n",
              "        [0.83333333],\n",
              "        [0.83333333],\n",
              "        [0.83333333]],\n",
              "\n",
              "       [[0.77777778],\n",
              "        [0.83333333],\n",
              "        [0.83333333],\n",
              "        [0.83333333],\n",
              "        [0.83333333],\n",
              "        [0.83333333],\n",
              "        [0.77777778]]])"
            ]
          },
          "metadata": {},
          "execution_count": 40
        }
      ]
    },
    {
      "cell_type": "code",
      "metadata": {
        "id": "q1aa-KNS8pyA",
        "colab": {
          "base_uri": "https://localhost:8080/"
        },
        "outputId": "372b159d-9ba5-4cd5-d200-4e9622c343f8"
      },
      "source": [
        "np.array(X_test)[:3]"
      ],
      "execution_count": 41,
      "outputs": [
        {
          "output_type": "stream",
          "name": "stderr",
          "text": [
            "/usr/local/lib/python3.7/dist-packages/ipykernel_launcher.py:1: VisibleDeprecationWarning: Creating an ndarray from ragged nested sequences (which is a list-or-tuple of lists-or-tuples-or ndarrays with different lengths or shapes) is deprecated. If you meant to do this, you must specify 'dtype=object' when creating the ndarray\n",
            "  \"\"\"Entry point for launching an IPython kernel.\n"
          ]
        },
        {
          "output_type": "execute_result",
          "data": {
            "text/plain": [
              "array([array([[0.77777778],\n",
              "       [0.77777778],\n",
              "       [0.77777778],\n",
              "       [0.83333333],\n",
              "       [0.83333333],\n",
              "       [0.83333333],\n",
              "       [0.83333333]]),\n",
              "       array([[0.77777778],\n",
              "       [0.77777778],\n",
              "       [0.83333333],\n",
              "       [0.83333333],\n",
              "       [0.83333333],\n",
              "       [0.83333333],\n",
              "       [0.83333333]]),\n",
              "       array([[0.77777778],\n",
              "       [0.83333333],\n",
              "       [0.83333333],\n",
              "       [0.83333333],\n",
              "       [0.83333333],\n",
              "       [0.83333333],\n",
              "       [0.77777778]])], dtype=object)"
            ]
          },
          "metadata": {},
          "execution_count": 41
        }
      ]
    },
    {
      "cell_type": "code",
      "metadata": {
        "colab": {
          "base_uri": "https://localhost:8080/"
        },
        "id": "EeJsMktqTsGJ",
        "outputId": "fffdeb8d-0b94-46d8-eab4-acf2fdbe731f"
      },
      "source": [
        "np.array(y_train)[:3]"
      ],
      "execution_count": 42,
      "outputs": [
        {
          "output_type": "execute_result",
          "data": {
            "text/plain": [
              "array([[[0.83333333],\n",
              "        [0.77777778],\n",
              "        [0.77777778]],\n",
              "\n",
              "       [[0.77777778],\n",
              "        [0.77777778],\n",
              "        [0.77777778]],\n",
              "\n",
              "       [[0.77777778],\n",
              "        [0.77777778],\n",
              "        [0.77777778]]])"
            ]
          },
          "metadata": {},
          "execution_count": 42
        }
      ]
    },
    {
      "cell_type": "code",
      "metadata": {
        "colab": {
          "base_uri": "https://localhost:8080/"
        },
        "id": "8Gx6TvK5Tr9n",
        "outputId": "9011726b-eb68-43de-dab4-74303680760e"
      },
      "source": [
        "np.array(y_test)[:3]"
      ],
      "execution_count": 43,
      "outputs": [
        {
          "output_type": "stream",
          "name": "stderr",
          "text": [
            "/usr/local/lib/python3.7/dist-packages/ipykernel_launcher.py:1: VisibleDeprecationWarning: Creating an ndarray from ragged nested sequences (which is a list-or-tuple of lists-or-tuples-or ndarrays with different lengths or shapes) is deprecated. If you meant to do this, you must specify 'dtype=object' when creating the ndarray\n",
            "  \"\"\"Entry point for launching an IPython kernel.\n"
          ]
        },
        {
          "output_type": "execute_result",
          "data": {
            "text/plain": [
              "array([array([[0.83333333],\n",
              "       [0.77777778],\n",
              "       [0.77777778]]),\n",
              "       array([[0.77777778],\n",
              "       [0.77777778],\n",
              "       [0.77777778]]),\n",
              "       array([[0.77777778],\n",
              "       [0.77777778],\n",
              "       [0.77777778]])], dtype=object)"
            ]
          },
          "metadata": {},
          "execution_count": 43
        }
      ]
    }
  ]
}
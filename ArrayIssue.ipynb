{
  "nbformat": 4,
  "nbformat_minor": 0,
  "metadata": {
    "colab": {
      "name": "ArrayIssue.ipynb",
      "provenance": [],
      "authorship_tag": "ABX9TyMGNSXH/r6sOn5mo+A7Xo3Y",
      "include_colab_link": true
    },
    "kernelspec": {
      "name": "python3",
      "display_name": "Python 3"
    },
    "language_info": {
      "name": "python"
    }
  },
  "cells": [
    {
      "cell_type": "markdown",
      "metadata": {
        "id": "view-in-github",
        "colab_type": "text"
      },
      "source": [
        "<a href=\"https://colab.research.google.com/github/Crayfi/Datasets/blob/main/ArrayIssue.ipynb\" target=\"_parent\"><img src=\"https://colab.research.google.com/assets/colab-badge.svg\" alt=\"Open In Colab\"/></a>"
      ]
    },
    {
      "cell_type": "code",
      "metadata": {
        "id": "kaKKHo5B7zdm"
      },
      "source": [
        "import numpy as np\n",
        "import pandas as pd\n",
        "from sklearn.preprocessing import MinMaxScaler"
      ],
      "execution_count": null,
      "outputs": []
    },
    {
      "cell_type": "code",
      "metadata": {
        "id": "OpIYHLV18VPC"
      },
      "source": [
        "stepsForward = 3\n",
        "stepsBack = 7\n",
        "trainTestSplit = 0.75"
      ],
      "execution_count": null,
      "outputs": []
    },
    {
      "cell_type": "code",
      "metadata": {
        "colab": {
          "base_uri": "https://localhost:8080/"
        },
        "id": "4foIrCD67j9x",
        "outputId": "f4ec3886-6882-4c5e-83e5-bd74633e6cd0"
      },
      "source": [
        "file = open('cannonball.csv', 'r')\n",
        "df = pd.read_csv(file, error_bad_lines=False)\n",
        "df_item = pd.DataFrame(df.Cannonball)\n",
        "\n",
        "minmax = MinMaxScaler().fit(df_item.values.reshape((-1,1))[1:])\n",
        "df_normalize = minmax.transform(df_item.values.reshape((-1,1))[1:])\n",
        "\n",
        "def walk_forward(X, stepsBack, stepsForward, trainTestSplit):\n",
        "  n_records = len(X)\n",
        "  dfx = X[:]\n",
        "  split = int(n_records*trainTestSplit-stepsForward)\n",
        "  x = []\n",
        "  y = []\n",
        "  for i in range(n_records):\n",
        "    x.append(dfx[i : i + stepsBack])  \n",
        "    y.append(dfx[i + stepsBack : i + stepsBack + stepsForward])\n",
        "\n",
        "  xtrain = x[:split]\n",
        "  ytrain = y[:split]\n",
        "\n",
        "  xtest = x[: n_records - stepsForward]\n",
        "  ytest = y[: n_records - stepsForward]\n",
        "\t\n",
        "  return np.asarray(xtrain), np.asarray(ytrain), np.asarray(xtest), np.asarray(ytest)\n",
        "\n",
        "X_train, y_train, X_test, y_test = walk_forward(np.copy(df_normalize), stepsBack, stepsForward, trainTestSplit)\n",
        "\n",
        "print('train=%d, test=%d' % (len(X_train), len(X_test))) "
      ],
      "execution_count": null,
      "outputs": [
        {
          "output_type": "stream",
          "name": "stdout",
          "text": [
            "train=2124, test=2834\n"
          ]
        },
        {
          "output_type": "stream",
          "name": "stderr",
          "text": [
            "/usr/local/lib/python3.7/dist-packages/numpy/core/_asarray.py:83: VisibleDeprecationWarning: Creating an ndarray from ragged nested sequences (which is a list-or-tuple of lists-or-tuples-or ndarrays with different lengths or shapes) is deprecated. If you meant to do this, you must specify 'dtype=object' when creating the ndarray\n",
            "  return array(a, dtype, copy=False, order=order)\n"
          ]
        }
      ]
    },
    {
      "cell_type": "code",
      "metadata": {
        "colab": {
          "base_uri": "https://localhost:8080/"
        },
        "id": "c7ms6Pjx8XP7",
        "outputId": "2ff6b8d7-e394-4497-91f1-242836c6094f"
      },
      "source": [
        "X_train[:3]"
      ],
      "execution_count": null,
      "outputs": [
        {
          "output_type": "execute_result",
          "data": {
            "text/plain": [
              "array([[[0.77777778],\n",
              "        [0.77777778],\n",
              "        [0.77777778],\n",
              "        [0.83333333],\n",
              "        [0.83333333],\n",
              "        [0.83333333],\n",
              "        [0.83333333]],\n",
              "\n",
              "       [[0.77777778],\n",
              "        [0.77777778],\n",
              "        [0.83333333],\n",
              "        [0.83333333],\n",
              "        [0.83333333],\n",
              "        [0.83333333],\n",
              "        [0.83333333]],\n",
              "\n",
              "       [[0.77777778],\n",
              "        [0.83333333],\n",
              "        [0.83333333],\n",
              "        [0.83333333],\n",
              "        [0.83333333],\n",
              "        [0.83333333],\n",
              "        [0.77777778]]])"
            ]
          },
          "metadata": {},
          "execution_count": 9
        }
      ]
    },
    {
      "cell_type": "code",
      "metadata": {
        "id": "q1aa-KNS8pyA",
        "colab": {
          "base_uri": "https://localhost:8080/"
        },
        "outputId": "f6a68a81-f604-48c0-e0f3-146b2830db23"
      },
      "source": [
        "X_test[:3]"
      ],
      "execution_count": null,
      "outputs": [
        {
          "output_type": "execute_result",
          "data": {
            "text/plain": [
              "array([array([[0.77777778],\n",
              "       [0.77777778],\n",
              "       [0.77777778],\n",
              "       [0.83333333],\n",
              "       [0.83333333],\n",
              "       [0.83333333],\n",
              "       [0.83333333]]),\n",
              "       array([[0.77777778],\n",
              "       [0.77777778],\n",
              "       [0.83333333],\n",
              "       [0.83333333],\n",
              "       [0.83333333],\n",
              "       [0.83333333],\n",
              "       [0.83333333]]),\n",
              "       array([[0.77777778],\n",
              "       [0.83333333],\n",
              "       [0.83333333],\n",
              "       [0.83333333],\n",
              "       [0.83333333],\n",
              "       [0.83333333],\n",
              "       [0.77777778]])], dtype=object)"
            ]
          },
          "metadata": {},
          "execution_count": 10
        }
      ]
    }
  ]
}
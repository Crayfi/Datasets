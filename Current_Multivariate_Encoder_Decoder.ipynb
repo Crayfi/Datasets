{
  "nbformat": 4,
  "nbformat_minor": 0,
  "metadata": {
    "colab": {
      "name": "Current Multivariate Encoder Decoder.ipynb",
      "provenance": [],
      "authorship_tag": "ABX9TyMFC36LZ+eYPVxngSUE5OxH",
      "include_colab_link": true
    },
    "kernelspec": {
      "name": "python3",
      "display_name": "Python 3"
    },
    "language_info": {
      "name": "python"
    },
    "accelerator": "GPU"
  },
  "cells": [
    {
      "cell_type": "markdown",
      "metadata": {
        "id": "view-in-github",
        "colab_type": "text"
      },
      "source": [
        "<a href=\"https://colab.research.google.com/github/Crayfi/Datasets/blob/main/Current_Multivariate_Encoder_Decoder.ipynb\" target=\"_parent\"><img src=\"https://colab.research.google.com/assets/colab-badge.svg\" alt=\"Open In Colab\"/></a>"
      ]
    },
    {
      "cell_type": "code",
      "metadata": {
        "id": "n8iyyhkub7y5"
      },
      "source": [
        "#@title Import Libraries\n",
        "from random import randint\n",
        "from numpy import array\n",
        "from numpy import argmax\n",
        "import keras.backend as K\n",
        "from tensorflow.keras import models\n",
        "from numpy import array_equal\n",
        "import numpy as np\n",
        "import pandas as pd\n",
        "from sklearn.preprocessing import MinMaxScaler\n",
        "from tensorflow.keras.models import Sequential, Model\n",
        "from tensorflow.keras.layers import LSTM, Bidirectional\n",
        "from tensorflow.keras.layers import Dense, Flatten\n",
        "from tensorflow.keras import Input\n",
        "from tensorflow.keras.layers import TimeDistributed\n",
        "from tensorflow.keras.layers import RepeatVector\n",
        "from tensorflow.keras.callbacks import EarlyStopping\n",
        "from tensorflow.keras.utils import plot_model\n",
        "from tensorflow.keras.models import load_model\n",
        "from tensorflow.keras.preprocessing.sequence import pad_sequences\n",
        "import matplotlib.pyplot as plt\n",
        "\n",
        "from tensorflow.keras.layers import Lambda\n",
        "from tensorflow.keras import backend as K\n",
        "\n",
        "from scipy.ndimage.interpolation import shift"
      ],
      "execution_count": null,
      "outputs": []
    },
    {
      "cell_type": "code",
      "metadata": {
        "colab": {
          "base_uri": "https://localhost:8080/"
        },
        "id": "6CN67sRUaqdo",
        "outputId": "17a242d1-a79c-4fbe-de9c-d9d1dbb748bc"
      },
      "source": [
        "#@title Check GPU\n",
        "%tensorflow_version 2.x\n",
        "import tensorflow as tf\n",
        "device_name = tf.test.gpu_device_name()\n",
        "if device_name != '/device:GPU:0':\n",
        "  print('GPU device not found')\n",
        "else:\n",
        "  print('Found GPU at: {}'.format(device_name))"
      ],
      "execution_count": null,
      "outputs": [
        {
          "output_type": "stream",
          "name": "stdout",
          "text": [
            "Found GPU at: /device:GPU:0\n"
          ]
        }
      ]
    },
    {
      "cell_type": "code",
      "metadata": {
        "colab": {
          "base_uri": "https://localhost:8080/"
        },
        "id": "tTDM-qJna8jP",
        "outputId": "906b7d42-cfbd-4e47-82e4-78ade1a4a553"
      },
      "source": [
        "#@title Version Info\n",
        "print('tf version: ', tf.__version__)\n",
        "print('tf.keras version:', tf.keras.__version__)"
      ],
      "execution_count": null,
      "outputs": [
        {
          "output_type": "stream",
          "name": "stdout",
          "text": [
            "tf version:  2.6.0\n",
            "tf.keras version: 2.6.0\n"
          ]
        }
      ]
    },
    {
      "cell_type": "code",
      "metadata": {
        "colab": {
          "base_uri": "https://localhost:8080/"
        },
        "id": "4L5-xg7la8gL",
        "outputId": "707b4c98-b875-480c-fd0a-9b6af0a76c48"
      },
      "source": [
        "#@title Time\n",
        "!pip install ipython-autotime\n",
        "\n",
        "%load_ext autotime"
      ],
      "execution_count": null,
      "outputs": [
        {
          "output_type": "stream",
          "name": "stdout",
          "text": [
            "Requirement already satisfied: ipython-autotime in /usr/local/lib/python3.7/dist-packages (0.3.1)\n",
            "Requirement already satisfied: ipython in /usr/local/lib/python3.7/dist-packages (from ipython-autotime) (5.5.0)\n",
            "Requirement already satisfied: setuptools>=18.5 in /usr/local/lib/python3.7/dist-packages (from ipython->ipython-autotime) (57.4.0)\n",
            "Requirement already satisfied: traitlets>=4.2 in /usr/local/lib/python3.7/dist-packages (from ipython->ipython-autotime) (5.1.0)\n",
            "Requirement already satisfied: pickleshare in /usr/local/lib/python3.7/dist-packages (from ipython->ipython-autotime) (0.7.5)\n",
            "Requirement already satisfied: pexpect in /usr/local/lib/python3.7/dist-packages (from ipython->ipython-autotime) (4.8.0)\n",
            "Requirement already satisfied: decorator in /usr/local/lib/python3.7/dist-packages (from ipython->ipython-autotime) (4.4.2)\n",
            "Requirement already satisfied: simplegeneric>0.8 in /usr/local/lib/python3.7/dist-packages (from ipython->ipython-autotime) (0.8.1)\n",
            "Requirement already satisfied: prompt-toolkit<2.0.0,>=1.0.4 in /usr/local/lib/python3.7/dist-packages (from ipython->ipython-autotime) (1.0.18)\n",
            "Requirement already satisfied: pygments in /usr/local/lib/python3.7/dist-packages (from ipython->ipython-autotime) (2.6.1)\n",
            "Requirement already satisfied: six>=1.9.0 in /usr/local/lib/python3.7/dist-packages (from prompt-toolkit<2.0.0,>=1.0.4->ipython->ipython-autotime) (1.15.0)\n",
            "Requirement already satisfied: wcwidth in /usr/local/lib/python3.7/dist-packages (from prompt-toolkit<2.0.0,>=1.0.4->ipython->ipython-autotime) (0.2.5)\n",
            "Requirement already satisfied: ptyprocess>=0.5 in /usr/local/lib/python3.7/dist-packages (from pexpect->ipython->ipython-autotime) (0.7.0)\n",
            "time: 181 µs (started: 2021-10-19 22:52:52 +00:00)\n"
          ]
        }
      ]
    },
    {
      "cell_type": "code",
      "metadata": {
        "colab": {
          "base_uri": "https://localhost:8080/"
        },
        "id": "pOxJhz8Ao3NT",
        "outputId": "538d5bce-173b-4149-e23f-599ad6da7422"
      },
      "source": [
        "#@title Variables\n",
        "\n",
        "stepsForward = 4\n",
        "stepsBack = 10\n",
        "trainTestSplit = 0.75\n",
        "LSTMoutputDimension = 50"
      ],
      "execution_count": null,
      "outputs": [
        {
          "output_type": "stream",
          "name": "stdout",
          "text": [
            "time: 1.64 ms (started: 2021-10-19 22:52:52 +00:00)\n"
          ]
        }
      ]
    },
    {
      "cell_type": "code",
      "metadata": {
        "colab": {
          "base_uri": "https://localhost:8080/"
        },
        "id": "Ck3BOF5_a8dD",
        "outputId": "2adf30fe-78cc-4342-e6a5-6c96158b0bcf"
      },
      "source": [
        "# open database try the processed file first, process if needed\n",
        "try:\n",
        "  file = open('buy_average_fill.csv', 'r')\n",
        "  df = pd.read_csv(file, error_bad_lines=False)\n",
        "except:\n",
        "  try:\n",
        "    file = open('buy_average.csv', 'r')\n",
        "    df = pd.read_csv(file, error_bad_lines=False)\n",
        "\n",
        "    def fill_zeros(x):\n",
        "      # make first row all 1s\n",
        "      x.iloc[0] = [1]*len(x.columns)\n",
        "\n",
        "      # fill zeros in with previous price\n",
        "      for i in x.columns:\n",
        "        for j in range(len(x)):\n",
        "          #TODO update with historical data later\n",
        "          if (x[i][j] == 0 ):\n",
        "            x[i][j] = x[i][j-1]\n",
        "      return x\n",
        "\n",
        "    df = fill_zeros(df)\n",
        "    df.to_csv('buy_average_fill.csv')\n",
        "  except:\n",
        "    print('Can\\'t locate buy_average.csv or buy_average_fill.csv ')\n",
        "\n",
        "try:\n",
        "  file = open('buy_quantity.csv', 'r')\n",
        "  df_buy_quantity = pd.read_csv(file, error_bad_lines=False)\n",
        "  df_buy_quantity.iloc[0] = [1]*len(df_buy_quantity.columns)\n",
        "  df_buy_quantity = pd.DataFrame(df_buy_quantity.Cannonball)\n",
        "except:\n",
        "  print('Can\\'t locate buy_quantity.csv')"
      ],
      "execution_count": null,
      "outputs": [
        {
          "output_type": "stream",
          "name": "stderr",
          "text": [
            "b'Skipping line 2840: expected 3658 fields, saw 3781\\nSkipping line 2841: expected 3658 fields, saw 3781\\nSkipping line 2842: expected 3658 fields, saw 3781\\nSkipping line 2843: expected 3658 fields, saw 3781\\nSkipping line 2844: expected 3658 fields, saw 3781\\n'\n"
          ]
        },
        {
          "output_type": "stream",
          "name": "stdout",
          "text": [
            "time: 3.45 s (started: 2021-10-19 22:52:52 +00:00)\n"
          ]
        }
      ]
    },
    {
      "cell_type": "code",
      "metadata": {
        "colab": {
          "base_uri": "https://localhost:8080/"
        },
        "id": "-DAiRcS9sV08",
        "outputId": "fcdd2629-4945-46d1-c431-9cf95d086aad"
      },
      "source": [
        "#df.to_csv('buy_average_fill.csv')\n",
        "assert(np.all(df.values[1, 2:] == df.values[1, 2:])) "
      ],
      "execution_count": null,
      "outputs": [
        {
          "output_type": "stream",
          "name": "stdout",
          "text": [
            "time: 1.63 ms (started: 2021-10-19 22:52:56 +00:00)\n"
          ]
        }
      ]
    },
    {
      "cell_type": "code",
      "metadata": {
        "id": "q9r2KEa0a8al",
        "colab": {
          "base_uri": "https://localhost:8080/"
        },
        "outputId": "9579470e-4405-46e6-f3c9-37944750e9ce"
      },
      "source": [
        "# Replace Cannonball with any item name in df\n",
        "# drop first row of 1s\n",
        "df_item = pd.DataFrame(df.Cannonball)[1:]\n",
        "df_buy_quantity = df_buy_quantity[1:]\n",
        "drop = []\n",
        "#remove duplicate entries\n",
        "for i in range(1, len(df_item)):\n",
        "  if np.all(df_item.values[i, 0] == df_item.values[i-1, 0]):\n",
        "    drop.append(i)\n",
        "for i in drop:\n",
        "  df_item = df_item.drop([i])\n",
        "  df_buy_quantity = df_buy_quantity.drop([i])\n",
        "\n",
        "# calculate change in flow per trade\n",
        "flow = np.multiply(df_item[:], df_buy_quantity[:])\n",
        "\n",
        "\n",
        "# Fit values between 0 and 1\n",
        "# TODO: make function to accept list of items with different models each\n",
        "minmax_price = MinMaxScaler().fit(df_item.values.reshape((-1,1)))\n",
        "df_price = minmax_price.transform(df_item.values.reshape((-1,1)))\n",
        "\n",
        "minmax_buy_quant = MinMaxScaler().fit(df_buy_quantity.values.reshape((-1,1)))\n",
        "df_buy_quant_normalize = minmax_buy_quant.transform(df_buy_quantity.values.reshape((-1,1)))\n",
        "\n",
        "minmax_flow = MinMaxScaler().fit(flow.values.reshape((-1,1)))\n",
        "df_flow = minmax_flow.transform(flow.values.reshape((-1,1)))\n",
        "for i in range(len(df_flow)):\n",
        "  df_flow[i] = float(df_flow[i])\n",
        "\n",
        "df_normalize = list(zip(df_price, df_buy_quant_normalize, df_flow))\n",
        "\n",
        "def walk_forward(X, stepsBack, stepsForward, trainTestSplit):\n",
        "  n_records = len(X)\n",
        "  dfx = X.copy()\n",
        "  split = int(n_records*trainTestSplit-stepsForward)\n",
        "  x = []\n",
        "  y = []\n",
        "  for i in range(n_records):\n",
        "    x.append(dfx[i : i + stepsBack])  \n",
        "    y.append(dfx[i + stepsBack : i + stepsBack + stepsForward,0])\n",
        "\n",
        "  xtrain = x[:split-stepsBack]\n",
        "  ytrain = y[:split-stepsBack]\n",
        "\n",
        "  xtest = x[split: n_records - stepsBack]\n",
        "  ytest = y[split: n_records - stepsBack]\n",
        "\t\n",
        "  return np.asarray(xtrain), np.asarray(ytrain), np.asarray(xtest), np.asarray(ytest)\n",
        "\n",
        "X_train, y_train, X_test, y_test = walk_forward(np.copy(df_normalize), stepsBack, stepsForward, trainTestSplit)\n",
        "\n",
        "#print('train=%d, test=%d' % (len(X_train), len(X_test))) \n",
        "\n",
        "X_train = np.reshape(X_train,(len(X_train),stepsBack,len(X_train[0][0])))\n",
        "X_test = np.reshape(X_test,(len(X_test),stepsBack,len(X_test[0][0])))\n",
        "\n",
        "# pad the output to equal the input\n",
        "y_train_padded = pad_sequences(np.array(y_train), maxlen= stepsBack, \n",
        "                               padding='post', dtype='float32')\n",
        "y_test_padded = pad_sequences(np.array(y_test), maxlen= stepsBack, \n",
        "                               padding='post', dtype='float32')"
      ],
      "execution_count": null,
      "outputs": [
        {
          "output_type": "stream",
          "name": "stdout",
          "text": [
            "time: 2.46 s (started: 2021-10-19 22:52:56 +00:00)\n"
          ]
        },
        {
          "output_type": "stream",
          "name": "stderr",
          "text": [
            "/usr/local/lib/python3.7/dist-packages/numpy/core/_asarray.py:83: VisibleDeprecationWarning: Creating an ndarray from ragged nested sequences (which is a list-or-tuple of lists-or-tuples-or ndarrays with different lengths or shapes) is deprecated. If you meant to do this, you must specify 'dtype=object' when creating the ndarray\n",
            "  return array(a, dtype, copy=False, order=order)\n"
          ]
        }
      ]
    },
    {
      "cell_type": "code",
      "metadata": {
        "colab": {
          "base_uri": "https://localhost:8080/"
        },
        "id": "UBT9nMPJM54f",
        "outputId": "d456c7b4-089b-404e-d7cc-24f295a3453b"
      },
      "source": [
        "len(X_train[0][0])"
      ],
      "execution_count": null,
      "outputs": [
        {
          "output_type": "execute_result",
          "data": {
            "text/plain": [
              "3"
            ]
          },
          "metadata": {},
          "execution_count": 10
        },
        {
          "output_type": "stream",
          "name": "stdout",
          "text": [
            "time: 7.45 ms (started: 2021-10-19 22:52:58 +00:00)\n"
          ]
        }
      ]
    },
    {
      "cell_type": "code",
      "metadata": {
        "colab": {
          "base_uri": "https://localhost:8080/"
        },
        "id": "iJJVaLEcSqkf",
        "outputId": "a02b2c3e-d7df-4bcc-e309-c5f967164710"
      },
      "source": [
        "len(df_price)"
      ],
      "execution_count": null,
      "outputs": [
        {
          "output_type": "execute_result",
          "data": {
            "text/plain": [
              "308"
            ]
          },
          "metadata": {},
          "execution_count": 11
        },
        {
          "output_type": "stream",
          "name": "stdout",
          "text": [
            "time: 11.7 ms (started: 2021-10-19 22:52:58 +00:00)\n"
          ]
        }
      ]
    },
    {
      "cell_type": "code",
      "metadata": {
        "colab": {
          "base_uri": "https://localhost:8080/"
        },
        "id": "qfJGMbbSgC0F",
        "outputId": "65942c57-4d13-47a3-f2cb-43d82d88cab3"
      },
      "source": [
        "X_train[:2]"
      ],
      "execution_count": null,
      "outputs": [
        {
          "output_type": "execute_result",
          "data": {
            "text/plain": [
              "array([[[0.77777778, 0.51248131, 0.55139904],\n",
              "        [0.83333333, 0.4726638 , 0.51266079],\n",
              "        [0.77777778, 0.35311465, 0.38200646],\n",
              "        [0.72222222, 0.39621318, 0.42465759],\n",
              "        [0.66666667, 0.38254718, 0.40712517],\n",
              "        [0.61111111, 0.35045959, 0.37047191],\n",
              "        [0.66666667, 0.2817725 , 0.30113227],\n",
              "        [0.61111111, 0.33852442, 0.35798514],\n",
              "        [0.55555556, 0.27713035, 0.29125759],\n",
              "        [0.61111111, 0.19273975, 0.20546286]],\n",
              "\n",
              "       [[0.83333333, 0.4726638 , 0.51266079],\n",
              "        [0.77777778, 0.35311465, 0.38200646],\n",
              "        [0.72222222, 0.39621318, 0.42465759],\n",
              "        [0.66666667, 0.38254718, 0.40712517],\n",
              "        [0.61111111, 0.35045959, 0.37047191],\n",
              "        [0.66666667, 0.2817725 , 0.30113227],\n",
              "        [0.61111111, 0.33852442, 0.35798514],\n",
              "        [0.55555556, 0.27713035, 0.29125759],\n",
              "        [0.61111111, 0.19273975, 0.20546286],\n",
              "        [0.66666667, 0.13119024, 0.14275268]]])"
            ]
          },
          "metadata": {},
          "execution_count": 12
        },
        {
          "output_type": "stream",
          "name": "stdout",
          "text": [
            "time: 12 ms (started: 2021-10-19 22:52:58 +00:00)\n"
          ]
        }
      ]
    },
    {
      "cell_type": "code",
      "metadata": {
        "id": "85yOeJa3a8Ys",
        "colab": {
          "base_uri": "https://localhost:8080/"
        },
        "outputId": "3b11fb6f-44e0-488a-b21d-13350578942e"
      },
      "source": [
        "# decoder input data\n",
        "# [1, [0]*len(sequence)] - start sequence\n",
        "# [0, pred_sequence] - followed by predict sequences\n",
        "# ...\n",
        "# [0, [0]*len(sequence)] - end sequence\n",
        "\n",
        "def decoder_data(x):\n",
        "  df = x.copy()\n",
        "  new_df = np.zeros((len(df),2+stepsBack,1+stepsBack))\n",
        "  for i in range(len(df)):\n",
        "    # first row\n",
        "    new_df[i,0,0] = 1\n",
        "    # following predictions\n",
        "    for j in range(1, stepsBack):\n",
        "      for k in range(1, 1+stepsBack):\n",
        "        new_df[i,j,k] = float(df[j-1,k-1])\n",
        "\n",
        "  return new_df\n",
        "\n",
        "def transform_ydata(x):\n",
        "  df = x.copy()\n",
        "  new_df = np.zeros((len(df),2+stepsBack,1+stepsBack))\n",
        "  for i in range(len(df)):\n",
        "    for j in range(stepsBack):\n",
        "      for k in range(1, 1+stepsBack):\n",
        "        new_df[i,j,k] = float(df[j,k-1])\n",
        "\n",
        "  return new_df\n",
        "\n",
        "def transform_xdata(x,price):\n",
        "  price_df = price.copy()\n",
        "  df = x.copy()\n",
        "  new_df = np.zeros((len(df),1+stepsBack,stepsBack+len(df[0][0])))\n",
        "  for i in range(len(df)-stepsBack):\n",
        "    for j in range(stepsBack):\n",
        "      #sequences\n",
        "      for k in range(1, 1+stepsBack):\n",
        "        new_df[i,j,k] = float(df[i+j,k-1,1])\n",
        "      #features\n",
        "      for l in range(len(df[0][0])-1):\n",
        "        new_df[i,j,1+stepsBack+l] = float(df[i,j,l+1])\n",
        "\n",
        "  return new_df\n",
        "\n",
        "y_train_decode = decoder_data(y_train_padded)\n",
        "y_test_decode = decoder_data(y_test_padded)\n",
        "\n",
        "X_train = transform_xdata(X_train, df_price)\n",
        "X_test = transform_xdata(X_test, df_price)\n",
        "y_train_padded = transform_ydata(y_train_padded)\n",
        "y_test_padded = transform_ydata(y_test_padded)\n",
        "\n",
        "y_train_decode = tf.convert_to_tensor(y_train_decode, dtype = tf.float32)\n",
        "y_test_decode = tf.convert_to_tensor(y_test_decode, dtype = tf.float32)\n",
        "X_train = tf.convert_to_tensor(X_train, dtype = tf.float32)\n",
        "X_test = tf.convert_to_tensor(X_test, dtype = tf.float32)\n",
        "y_train_padded = tf.convert_to_tensor(y_train_padded, dtype = tf.float32)\n",
        "y_test_padded = tf.convert_to_tensor(y_test_padded, dtype = tf.float32)"
      ],
      "execution_count": null,
      "outputs": [
        {
          "output_type": "stream",
          "name": "stdout",
          "text": [
            "time: 151 ms (started: 2021-10-19 22:52:58 +00:00)\n"
          ]
        }
      ]
    },
    {
      "cell_type": "code",
      "metadata": {
        "colab": {
          "base_uri": "https://localhost:8080/"
        },
        "id": "IikjVhHXW7AP",
        "outputId": "b73ca5c0-fa87-4635-8a28-7f086b6a9087"
      },
      "source": [
        "X_train[:1]"
      ],
      "execution_count": null,
      "outputs": [
        {
          "output_type": "execute_result",
          "data": {
            "text/plain": [
              "<tf.Tensor: shape=(1, 11, 13), dtype=float32, numpy=\n",
              "array([[[0.        , 0.51248133, 0.4726638 , 0.35311466, 0.39621317,\n",
              "         0.38254717, 0.3504596 , 0.2817725 , 0.33852443, 0.27713034,\n",
              "         0.19273975, 0.51248133, 0.55139905],\n",
              "        [0.        , 0.4726638 , 0.35311466, 0.39621317, 0.38254717,\n",
              "         0.3504596 , 0.2817725 , 0.33852443, 0.27713034, 0.19273975,\n",
              "         0.13119024, 0.4726638 , 0.5126608 ],\n",
              "        [0.        , 0.35311466, 0.39621317, 0.38254717, 0.3504596 ,\n",
              "         0.2817725 , 0.33852443, 0.27713034, 0.19273975, 0.13119024,\n",
              "         0.13208087, 0.35311466, 0.38200647],\n",
              "        [0.        , 0.39621317, 0.38254717, 0.3504596 , 0.2817725 ,\n",
              "         0.33852443, 0.27713034, 0.19273975, 0.13119024, 0.13208087,\n",
              "         0.0799963 , 0.39621317, 0.42465758],\n",
              "        [0.        , 0.38254717, 0.3504596 , 0.2817725 , 0.33852443,\n",
              "         0.27713034, 0.19273975, 0.13119024, 0.13208087, 0.0799963 ,\n",
              "         0.08294964, 0.38254717, 0.40712517],\n",
              "        [0.        , 0.3504596 , 0.2817725 , 0.33852443, 0.27713034,\n",
              "         0.19273975, 0.13119024, 0.13208087, 0.0799963 , 0.08294964,\n",
              "         0.11024383, 0.3504596 , 0.3704719 ],\n",
              "        [0.        , 0.2817725 , 0.33852443, 0.27713034, 0.19273975,\n",
              "         0.13119024, 0.13208087, 0.0799963 , 0.08294964, 0.11024383,\n",
              "         0.13336217, 0.2817725 , 0.30113226],\n",
              "        [0.        , 0.33852443, 0.27713034, 0.19273975, 0.13119024,\n",
              "         0.13208087, 0.0799963 , 0.08294964, 0.11024383, 0.13336217,\n",
              "         0.14239022, 0.33852443, 0.35798514],\n",
              "        [0.        , 0.27713034, 0.19273975, 0.13119024, 0.13208087,\n",
              "         0.0799963 , 0.08294964, 0.11024383, 0.13336217, 0.14239022,\n",
              "         0.16068158, 0.27713034, 0.2912576 ],\n",
              "        [0.        , 0.19273975, 0.13119024, 0.13208087, 0.0799963 ,\n",
              "         0.08294964, 0.11024383, 0.13336217, 0.14239022, 0.16068158,\n",
              "         0.17958207, 0.19273975, 0.20546286],\n",
              "        [0.        , 0.        , 0.        , 0.        , 0.        ,\n",
              "         0.        , 0.        , 0.        , 0.        , 0.        ,\n",
              "         0.        , 0.        , 0.        ]]], dtype=float32)>"
            ]
          },
          "metadata": {},
          "execution_count": 14
        },
        {
          "output_type": "stream",
          "name": "stdout",
          "text": [
            "time: 16.9 ms (started: 2021-10-19 22:52:58 +00:00)\n"
          ]
        }
      ]
    },
    {
      "cell_type": "code",
      "metadata": {
        "colab": {
          "base_uri": "https://localhost:8080/"
        },
        "id": "ZNXJPevNj1V5",
        "outputId": "4db2982b-781f-408c-f84b-a75468ecee48"
      },
      "source": [
        "df_buy_quant_normalize[:10]"
      ],
      "execution_count": null,
      "outputs": [
        {
          "output_type": "execute_result",
          "data": {
            "text/plain": [
              "array([[0.51248131],\n",
              "       [0.4726638 ],\n",
              "       [0.35311465],\n",
              "       [0.39621318],\n",
              "       [0.38254718],\n",
              "       [0.35045959],\n",
              "       [0.2817725 ],\n",
              "       [0.33852442],\n",
              "       [0.27713035],\n",
              "       [0.19273975]])"
            ]
          },
          "metadata": {},
          "execution_count": 15
        },
        {
          "output_type": "stream",
          "name": "stdout",
          "text": [
            "time: 6.45 ms (started: 2021-10-19 22:52:58 +00:00)\n"
          ]
        }
      ]
    },
    {
      "cell_type": "code",
      "metadata": {
        "id": "Bj4Rozt6a8TH",
        "colab": {
          "base_uri": "https://localhost:8080/",
          "height": 188
        },
        "outputId": "5319cf00-c08d-4181-e5a1-ce4e2f3ae88f"
      },
      "source": [
        "# define the model\n",
        "encoder_inputs= Input(shape=(stepsBack+1, len(X_train[0][0])), name='encoder_inputs')\n",
        "#mask = np.zeros((stepsBack+1))\n",
        "#mask[0] = 1\n",
        "masking = tf.keras.layers.Masking(mask_value= [1,0,0,0,0,0,0,0,0,0,0,0,0])\n",
        "encoder_inputs_masked = masking(encoder_inputs)\n",
        "\n",
        "\n",
        "encoder_lstm1=LSTM(LSTMoutputDimension, return_sequences=True, name='encoder_lstm1')\n",
        "LSTM_outputs = encoder_lstm1(encoder_inputs_masked)\n",
        "LSTM_outputs = TimeDistributed(Dense(stepsBack)) (LSTM_outputs)\n",
        "encoder_lstm2=LSTM(LSTMoutputDimension, return_state=True, name='encoder_lstm2')\n",
        "LSTM_outputs, state_h, state_c = encoder_lstm2(LSTM_outputs)\n",
        "\n",
        "# We discard `LSTM_outputs` and only keep the other states.\n",
        "encoder_states = [state_h, state_c]\n",
        "\n",
        "decoder_inputs = Input(shape=(stepsBack+2, stepsBack+1), name='decoder_inputs')\n",
        "\n",
        "decoder_lstm1 = LSTM(LSTMoutputDimension, return_sequences=True, return_state=True, name='decoder_lstm1')\n",
        "\n",
        "# Set up the decoder, using `context vector` as initial state.\n",
        "decoder1_outputs, _, _= decoder_lstm1(decoder_inputs,\n",
        "                                     initial_state=encoder_states)\n",
        "decoder_lstm2 = LSTM(LSTMoutputDimension, return_sequences=True, return_state=True, name='decoder_lstm2')\n",
        "decoder_outputs, _, _ = decoder_lstm2(decoder1_outputs)\n",
        "\n",
        "#complete the decoder model by adding a Dense layer with Softmax activation function \n",
        "#for prediction of the next output\n",
        "#Dense layer will output one-hot encoded representation as we did for input\n",
        "#Therefore, we will use input_dimension number of neurons\n",
        "decoder_dense = TimeDistributed(Dense(stepsBack+1, activation='LeakyReLU', name='decoder_dense'))\n",
        "decoder_outputs = decoder_dense(decoder_outputs)\n",
        "\n",
        "# put together\n",
        "model_encoder_training = Model([encoder_inputs, decoder_inputs], \n",
        "                               decoder_outputs, name='model_encoder_training')\n",
        "'''\n",
        "def loss_fun1(y_true, y_pred):\n",
        "    \n",
        "    loss  = tf.nn.sigmoid_cross....\n",
        "    return loss\n",
        "\n",
        "def loss_fun2(y_true, y_pred):\n",
        "     # do whatever you want\n",
        "    loss  = tf.nn.sigmoid_cross....\n",
        "    return loss\n",
        "\n",
        "def loss_fun3(y_true, y_pred):\n",
        "     # do whatever you want\n",
        "    loss  = tf.nn.sigmoid_cross....\n",
        "    return loss\n",
        "\n",
        "losses ={'output_layer1':loss_fun1,\n",
        "          'output_layer2':loss_fun2,\n",
        "          'output_layer2':loss_fun3\n",
        "        }\n",
        "\n",
        "lossWeights={'output_layer1':0.5,\n",
        "          'output_layer2':0.3,\n",
        "          'output_layer3':0.2  \n",
        "        }\n",
        "\n",
        "target1 = tf.placeholder(dtype='float32', shape=(1)) # shapes of output1 your target has\n",
        "target2 = tf.placeholder(dtype='float32', shape=(1)) # shapes of output2 your target has\n",
        "target3 = tf.placeholder(dtype='float32', shape=(1))\n",
        "\n",
        "model.compile(optimizer='rmsprop',\n",
        "             loss=losses,\n",
        "             loss_weights= lossWeights,\n",
        "             target_tensors=[target1, target2, target3],\n",
        "             metrics=['accuracy']                      \n",
        "             )'''"
      ],
      "execution_count": null,
      "outputs": [
        {
          "output_type": "execute_result",
          "data": {
            "application/vnd.google.colaboratory.intrinsic+json": {
              "type": "string"
            },
            "text/plain": [
              "\"\\ndef loss_fun1(y_true, y_pred):\\n    \\n    loss  = tf.nn.sigmoid_cross....\\n    return loss\\n\\ndef loss_fun2(y_true, y_pred):\\n     # do whatever you want\\n    loss  = tf.nn.sigmoid_cross....\\n    return loss\\n\\ndef loss_fun3(y_true, y_pred):\\n     # do whatever you want\\n    loss  = tf.nn.sigmoid_cross....\\n    return loss\\n\\nlosses ={'output_layer1':loss_fun1,\\n          'output_layer2':loss_fun2,\\n          'output_layer2':loss_fun3\\n        }\\n\\nlossWeights={'output_layer1':0.5,\\n          'output_layer2':0.3,\\n          'output_layer3':0.2  \\n        }\\n\\ntarget1 = tf.placeholder(dtype='float32', shape=(1)) # shapes of output1 your target has\\ntarget2 = tf.placeholder(dtype='float32', shape=(1)) # shapes of output2 your target has\\ntarget3 = tf.placeholder(dtype='float32', shape=(1))\\n\\nmodel.compile(optimizer='rmsprop',\\n             loss=losses,\\n             loss_weights= lossWeights,\\n             target_tensors=[target1, target2, target3],\\n             metrics=['accuracy']                      \\n             )\""
            ]
          },
          "metadata": {},
          "execution_count": 32
        },
        {
          "output_type": "stream",
          "name": "stdout",
          "text": [
            "time: 2.76 s (started: 2021-10-19 23:01:58 +00:00)\n"
          ]
        }
      ]
    },
    {
      "cell_type": "code",
      "metadata": {
        "id": "Z0EfLO8Na8Pz",
        "colab": {
          "base_uri": "https://localhost:8080/",
          "height": 1000
        },
        "outputId": "bc4fe3a1-f39e-4231-cf1b-a4a605f55955"
      },
      "source": [
        "model_encoder_training.compile(optimizer='adam', loss=tf.keras.losses.Huber(), \n",
        "                               metrics=['accuracy'])\n",
        "model_encoder_training.summary()\n",
        "plot_model(model_encoder_training, show_shapes=True)"
      ],
      "execution_count": null,
      "outputs": [
        {
          "output_type": "stream",
          "name": "stdout",
          "text": [
            "Model: \"model_encoder_training\"\n",
            "__________________________________________________________________________________________________\n",
            "Layer (type)                    Output Shape         Param #     Connected to                     \n",
            "==================================================================================================\n",
            "encoder_inputs (InputLayer)     [(None, 11, 13)]     0                                            \n",
            "__________________________________________________________________________________________________\n",
            "masking_5 (Masking)             (None, 11, 13)       0           encoder_inputs[0][0]             \n",
            "__________________________________________________________________________________________________\n",
            "encoder_lstm1 (LSTM)            (None, 11, 50)       12800       masking_5[0][0]                  \n",
            "__________________________________________________________________________________________________\n",
            "time_distributed_2 (TimeDistrib (None, 11, 10)       510         encoder_lstm1[0][0]              \n",
            "__________________________________________________________________________________________________\n",
            "decoder_inputs (InputLayer)     [(None, 12, 11)]     0                                            \n",
            "__________________________________________________________________________________________________\n",
            "encoder_lstm2 (LSTM)            [(None, 50), (None,  12200       time_distributed_2[0][0]         \n",
            "__________________________________________________________________________________________________\n",
            "decoder_lstm1 (LSTM)            [(None, 12, 50), (No 12400       decoder_inputs[0][0]             \n",
            "                                                                 encoder_lstm2[0][1]              \n",
            "                                                                 encoder_lstm2[0][2]              \n",
            "__________________________________________________________________________________________________\n",
            "decoder_lstm2 (LSTM)            [(None, 12, 50), (No 20200       decoder_lstm1[0][0]              \n",
            "__________________________________________________________________________________________________\n",
            "time_distributed_3 (TimeDistrib (None, 12, 11)       561         decoder_lstm2[0][0]              \n",
            "==================================================================================================\n",
            "Total params: 58,671\n",
            "Trainable params: 58,671\n",
            "Non-trainable params: 0\n",
            "__________________________________________________________________________________________________\n"
          ]
        },
        {
          "output_type": "execute_result",
          "data": {
            "image/png": "[encoded data removed]",
            "text/plain": [
              "<IPython.core.display.Image object>"
            ]
          },
          "metadata": {},
          "execution_count": 33
        },
        {
          "output_type": "stream",
          "name": "stdout",
          "text": [
            "time: 187 ms (started: 2021-10-19 23:02:07 +00:00)\n"
          ]
        }
      ]
    },
    {
      "cell_type": "code",
      "metadata": {
        "id": "qOkU2u9ca8MY",
        "colab": {
          "base_uri": "https://localhost:8080/"
        },
        "outputId": "4cf4c8a6-0b94-4e16-ffc9-45ffd624992a"
      },
      "source": [
        "def train_test(model, X_train, y_train , X_test, \ty_test, epochs=500, batch_size=32, patience=5,verbose=0):\n",
        "\t# patient early stopping\n",
        "\tes = EarlyStopping(monitor='val_accuracy', mode='max', min_delta=1, patience=20)\n",
        "\t#es = EarlyStopping(monitor='val_loss', mode='min', verbose=1, patience=patience)\n",
        "\t# train model\n",
        "\tprint('training for ',epochs,' epochs begins with EarlyStopping(monitor= val_accuracy, patience=',patience,')....')\n",
        "\thistory=model.fit(X_train, y_train, validation_data=(X_test, y_test), epochs=epochs,batch_size=batch_size, verbose=verbose, callbacks=[es])\n",
        "\tprint(epochs,' epoch training finished...')\n",
        "\n",
        "\t# report training\n",
        "\t# list all data in history\n",
        "\t#print(history.history.keys())\n",
        "\t# evaluate the model\n",
        "\t_, train_acc = model.evaluate(X_train, y_train, batch_size=batch_size, verbose=0)\n",
        "\t_, test_acc = model.evaluate(X_test, \ty_test, batch_size=batch_size, verbose=0)\n",
        "\tprint('\\nPREDICTION ACCURACY (%):')\n",
        "\tprint('Train: %.3f, Test: %.3f' % (train_acc*100, test_acc*100))\n",
        "\t# summarize history for accuracy\n",
        "\tplt.plot(history.history['accuracy'])\n",
        "\tplt.plot(history.history['val_accuracy'])\n",
        "\tplt.title(model.name+' accuracy')\n",
        "\tplt.ylabel('accuracy')\n",
        "\tplt.xlabel('epoch')\n",
        "\tplt.legend(['train', 'val'], loc='upper left')\n",
        "\tplt.show()\n",
        "\t# summarize history for loss\n",
        "\tplt.plot(history.history['loss'])\n",
        "\tplt.plot(history.history['val_loss'])\n",
        "\tplt.title(model.name+' loss')\n",
        "\tplt.ylabel('loss')\n",
        "\tplt.xlabel('epoch')\n",
        "\tplt.legend(['train', 'val'], loc='upper left')\n",
        "\tplt.show()\n",
        "\n",
        "\n",
        "\n",
        "\n",
        "  \n",
        "\t# spot check some examples\n",
        "\tspace = 3*len(y_test[0])\n",
        "\tprint('10 examples from test data...')\n",
        "\tprint('Input',' '*(space-4) ,'Expected',' '*(space-7) ,\n",
        "\t      'Predicted',' '*(space-5) ,'T/F')\n",
        "\tcorrect =0 \n",
        "\tsampleNo =  10\n",
        "\n",
        "\tpredicted= model.predict(X_test[:sampleNo], batch_size=batch_size)\n",
        "\tfor sample in range(0,sampleNo):\n",
        "\t\tif (y_test[sample][0][0]== predicted[sample][0][0]):\n",
        "\t\t\tcorrect+=1\n",
        "\t\t#print( X_test[0][sample], ' ', \n",
        "\t\t\t\t\t#y_test[sample],' ', predicted[sample],\n",
        "\t\t\t\t\t#' ',y_test[sample][0][0]== predicted[sample][0][0])\n",
        "\tprint('Accuracy: ', correct/sampleNo)\n",
        "\t"
      ],
      "execution_count": null,
      "outputs": [
        {
          "output_type": "stream",
          "name": "stdout",
          "text": [
            "time: 63 ms (started: 2021-10-19 23:02:13 +00:00)\n"
          ]
        }
      ]
    },
    {
      "cell_type": "code",
      "metadata": {
        "id": "kWQmI5PpF3ur"
      },
      "source": [
        ""
      ],
      "execution_count": null,
      "outputs": []
    },
    {
      "cell_type": "code",
      "metadata": {
        "id": "r_X9x7Z0vN1J",
        "colab": {
          "base_uri": "https://localhost:8080/",
          "height": 1000
        },
        "outputId": "33b4387e-f767-4cc6-93d0-3b67b3194329"
      },
      "source": [
        "train_test(model_encoder_training, [X_train, y_train_decode], y_train_padded ,\n",
        "           [X_test, y_test_decode], \n",
        "           y_test_padded, epochs=50, batch_size=3, patience=3,verbose=2)"
      ],
      "execution_count": null,
      "outputs": [
        {
          "output_type": "stream",
          "name": "stdout",
          "text": [
            "training for  50  epochs begins with EarlyStopping(monitor= val_accuracy, patience= 3 )....\n",
            "Epoch 1/50\n",
            "73/73 - 17s - loss: 0.0214 - accuracy: 0.3621 - val_loss: 0.0171 - val_accuracy: 0.0481\n",
            "Epoch 2/50\n",
            "73/73 - 2s - loss: 0.0028 - accuracy: 0.5184 - val_loss: 0.0205 - val_accuracy: 0.0833\n",
            "Epoch 3/50\n",
            "73/73 - 2s - loss: 7.2662e-04 - accuracy: 0.6874 - val_loss: 0.0207 - val_accuracy: 0.0833\n",
            "Epoch 4/50\n",
            "73/73 - 2s - loss: 2.3446e-04 - accuracy: 0.7093 - val_loss: 0.0210 - val_accuracy: 0.0833\n",
            "Epoch 5/50\n",
            "73/73 - 2s - loss: 1.2852e-04 - accuracy: 0.7216 - val_loss: 0.0209 - val_accuracy: 0.0833\n",
            "Epoch 6/50\n",
            "73/73 - 2s - loss: 9.3786e-05 - accuracy: 0.7185 - val_loss: 0.0208 - val_accuracy: 0.0833\n",
            "Epoch 7/50\n",
            "73/73 - 2s - loss: 7.3840e-05 - accuracy: 0.7024 - val_loss: 0.0204 - val_accuracy: 0.0833\n",
            "Epoch 8/50\n",
            "73/73 - 2s - loss: 5.9811e-05 - accuracy: 0.6905 - val_loss: 0.0204 - val_accuracy: 0.0833\n",
            "Epoch 9/50\n",
            "73/73 - 2s - loss: 4.5547e-05 - accuracy: 0.6866 - val_loss: 0.0205 - val_accuracy: 0.0833\n",
            "Epoch 10/50\n",
            "73/73 - 2s - loss: 3.8310e-05 - accuracy: 0.7247 - val_loss: 0.0207 - val_accuracy: 0.0833\n",
            "Epoch 11/50\n",
            "73/73 - 2s - loss: 3.2728e-05 - accuracy: 0.7588 - val_loss: 0.0208 - val_accuracy: 0.0833\n",
            "Epoch 12/50\n",
            "73/73 - 2s - loss: 2.7887e-05 - accuracy: 0.7680 - val_loss: 0.0209 - val_accuracy: 0.0833\n",
            "Epoch 13/50\n",
            "73/73 - 2s - loss: 2.5633e-05 - accuracy: 0.7665 - val_loss: 0.0209 - val_accuracy: 0.0833\n",
            "Epoch 14/50\n",
            "73/73 - 2s - loss: 2.2504e-05 - accuracy: 0.7753 - val_loss: 0.0208 - val_accuracy: 0.0951\n",
            "Epoch 15/50\n",
            "73/73 - 2s - loss: 2.1090e-05 - accuracy: 0.7934 - val_loss: 0.0208 - val_accuracy: 0.0951\n",
            "Epoch 16/50\n",
            "73/73 - 2s - loss: 1.7937e-05 - accuracy: 0.8134 - val_loss: 0.0209 - val_accuracy: 0.0951\n",
            "Epoch 17/50\n",
            "73/73 - 2s - loss: 1.9215e-05 - accuracy: 0.8257 - val_loss: 0.0207 - val_accuracy: 0.0833\n",
            "Epoch 18/50\n",
            "73/73 - 2s - loss: 1.6093e-05 - accuracy: 0.8268 - val_loss: 0.0210 - val_accuracy: 0.1667\n",
            "Epoch 19/50\n",
            "73/73 - 2s - loss: 1.3940e-05 - accuracy: 0.8337 - val_loss: 0.0210 - val_accuracy: 0.1667\n",
            "Epoch 20/50\n",
            "73/73 - 2s - loss: 1.1998e-05 - accuracy: 0.8498 - val_loss: 0.0210 - val_accuracy: 0.1667\n",
            "Epoch 21/50\n",
            "73/73 - 2s - loss: 1.2081e-05 - accuracy: 0.8452 - val_loss: 0.0207 - val_accuracy: 0.1667\n",
            "50  epoch training finished...\n",
            "\n",
            "PREDICTION ACCURACY (%):\n",
            "Train: 84.639, Test: 16.667\n"
          ]
        },
        {
          "output_type": "display_data",
          "data": {
            "image/png": "[encoded data removed]",
            "text/plain": [
              "<Figure size 432x288 with 1 Axes>"
            ]
          },
          "metadata": {
            "needs_background": "light"
          }
        },
        {
          "output_type": "display_data",
          "data": {
            "image/png": "[encoded data removed]",
            "text/plain": [
              "<Figure size 432x288 with 1 Axes>"
            ]
          },
          "metadata": {
            "needs_background": "light"
          }
        },
        {
          "output_type": "stream",
          "name": "stdout",
          "text": [
            "10 examples from test data...\n",
            "Input                                  Expected                               Predicted                                 T/F\n",
            "Accuracy:  0.0\n",
            "time: 56.6 s (started: 2021-10-19 23:02:13 +00:00)\n"
          ]
        }
      ]
    },
    {
      "cell_type": "code",
      "metadata": {
        "colab": {
          "base_uri": "https://localhost:8080/"
        },
        "id": "rhHF9LpZG3zu",
        "outputId": "c26dd1af-9a52-420a-ca48-fdfce1a96c37"
      },
      "source": [
        "model_encoder_training.predict([X_test[:1], y_test_decode[:1]])"
      ],
      "execution_count": null,
      "outputs": [
        {
          "output_type": "execute_result",
          "data": {
            "text/plain": [
              "array([[[-5.7188889e-05,  6.6820818e-01,  7.2401923e-01,  6.1339027e-01,\n",
              "          5.5612636e-01, -1.5062449e-04,  1.6058981e-04, -9.4356708e-04,\n",
              "         -5.1541557e-04, -1.0534273e-03, -4.4898671e-04],\n",
              "        [ 5.1633827e-03,  7.1258819e-01,  6.0900670e-01,  5.5719608e-01,\n",
              "          6.1333781e-01,  1.7997203e-03,  2.0128861e-04, -4.7403239e-04,\n",
              "         -6.8094865e-05, -4.7091769e-05, -1.4683263e-03],\n",
              "        [ 4.2332252e-03,  6.1904758e-01,  5.4427022e-01,  6.1511302e-01,\n",
              "          7.0793158e-01, -1.5536819e-03,  5.4622106e-03,  9.4539858e-04,\n",
              "         -5.5215985e-04, -2.3384290e-03, -1.0698012e-03],\n",
              "        [ 1.0280032e-04,  5.3102434e-01,  5.9408009e-01,  7.1746618e-01,\n",
              "          6.5439904e-01, -1.3312972e-03, -1.7547101e-03,  5.2949889e-03,\n",
              "          2.4281144e-03,  3.0312818e-03, -4.9622580e-03],\n",
              "        [ 1.1191506e-02,  6.0018176e-01,  6.9180429e-01,  6.7921853e-01,\n",
              "          6.7487389e-01, -8.8510094e-03,  3.1279232e-03,  1.0793369e-02,\n",
              "          2.6912512e-03, -1.9866182e-03, -6.5848446e-03],\n",
              "        [-1.4084266e-03,  6.6945451e-01,  6.3550621e-01,  7.0172542e-01,\n",
              "          7.3305416e-01, -5.3162910e-03,  2.0895638e-03,  1.1998387e-02,\n",
              "          2.3172963e-03,  5.1476611e-03, -8.1620933e-03],\n",
              "        [ 8.6855469e-03,  6.2837029e-01,  6.6787040e-01,  7.4686360e-01,\n",
              "          7.5946879e-01, -4.2642085e-03,  1.2137456e-02,  6.5464647e-03,\n",
              "         -1.2333307e-03, -8.9372578e-04, -7.8758169e-03],\n",
              "        [ 2.0539293e-02,  6.2392175e-01,  7.2375184e-01,  7.6831830e-01,\n",
              "          8.2214051e-01,  1.7222119e-03,  2.7447011e-02, -9.8500249e-04,\n",
              "         -2.0033354e-03, -7.6628732e-04, -2.5198520e-03],\n",
              "        [ 1.6543159e-02,  6.4690888e-01,  7.3857641e-01,  7.7552205e-01,\n",
              "          9.0092468e-01,  9.1008982e-03,  3.1216459e-02, -4.8297476e-03,\n",
              "         -6.0605300e-03, -3.6818464e-03,  4.4036852e-03],\n",
              "        [ 9.6230526e-03,  6.7028785e-01,  7.6794195e-01,  8.3723968e-01,\n",
              "          8.7726992e-01,  1.6916685e-02,  4.2550750e-02, -1.2443112e-02,\n",
              "         -1.3532181e-02, -1.2935194e-02,  1.1381756e-02],\n",
              "        [-4.0977066e-03, -9.9360477e-04, -8.6271325e-03, -7.1015577e-03,\n",
              "          7.6501869e-02,  4.0799804e-02,  3.8795888e-02, -1.5311937e-02,\n",
              "         -1.3416206e-02, -5.8337031e-03, -8.7717054e-03],\n",
              "        [-3.2614146e-03, -1.8826934e-02, -1.6170420e-02, -2.4171064e-02,\n",
              "         -8.3724996e-03,  1.9406311e-02,  4.8193179e-02, -8.9031607e-03,\n",
              "         -1.2996483e-02, -5.9587378e-03, -9.5155090e-03]]], dtype=float32)"
            ]
          },
          "metadata": {},
          "execution_count": 36
        },
        {
          "output_type": "stream",
          "name": "stdout",
          "text": [
            "time: 68.1 ms (started: 2021-10-19 23:03:09 +00:00)\n"
          ]
        }
      ]
    },
    {
      "cell_type": "code",
      "metadata": {
        "id": "gmdEZZwQAtQG",
        "colab": {
          "base_uri": "https://localhost:8080/"
        },
        "outputId": "ce8d370c-9afb-423e-ddd6-5ecb6f1e1b3f"
      },
      "source": [
        "y_test_padded[:1]"
      ],
      "execution_count": null,
      "outputs": [
        {
          "output_type": "execute_result",
          "data": {
            "text/plain": [
              "<tf.Tensor: shape=(1, 12, 11), dtype=float32, numpy=\n",
              "array([[[0.        , 0.44444445, 0.3888889 , 0.33333334, 0.3888889 ,\n",
              "         0.        , 0.        , 0.        , 0.        , 0.        ,\n",
              "         0.        ],\n",
              "        [0.        , 0.3888889 , 0.33333334, 0.3888889 , 0.33333334,\n",
              "         0.        , 0.        , 0.        , 0.        , 0.        ,\n",
              "         0.        ],\n",
              "        [0.        , 0.33333334, 0.3888889 , 0.33333334, 0.3888889 ,\n",
              "         0.        , 0.        , 0.        , 0.        , 0.        ,\n",
              "         0.        ],\n",
              "        [0.        , 0.3888889 , 0.33333334, 0.3888889 , 0.33333334,\n",
              "         0.        , 0.        , 0.        , 0.        , 0.        ,\n",
              "         0.        ],\n",
              "        [0.        , 0.33333334, 0.3888889 , 0.33333334, 0.2777778 ,\n",
              "         0.        , 0.        , 0.        , 0.        , 0.        ,\n",
              "         0.        ],\n",
              "        [0.        , 0.3888889 , 0.33333334, 0.2777778 , 0.33333334,\n",
              "         0.        , 0.        , 0.        , 0.        , 0.        ,\n",
              "         0.        ],\n",
              "        [0.        , 0.33333334, 0.2777778 , 0.33333334, 0.2777778 ,\n",
              "         0.        , 0.        , 0.        , 0.        , 0.        ,\n",
              "         0.        ],\n",
              "        [0.        , 0.2777778 , 0.33333334, 0.2777778 , 0.33333334,\n",
              "         0.        , 0.        , 0.        , 0.        , 0.        ,\n",
              "         0.        ],\n",
              "        [0.        , 0.33333334, 0.2777778 , 0.33333334, 0.2777778 ,\n",
              "         0.        , 0.        , 0.        , 0.        , 0.        ,\n",
              "         0.        ],\n",
              "        [0.        , 0.2777778 , 0.33333334, 0.2777778 , 0.22222222,\n",
              "         0.        , 0.        , 0.        , 0.        , 0.        ,\n",
              "         0.        ],\n",
              "        [0.        , 0.        , 0.        , 0.        , 0.        ,\n",
              "         0.        , 0.        , 0.        , 0.        , 0.        ,\n",
              "         0.        ],\n",
              "        [0.        , 0.        , 0.        , 0.        , 0.        ,\n",
              "         0.        , 0.        , 0.        , 0.        , 0.        ,\n",
              "         0.        ]]], dtype=float32)>"
            ]
          },
          "metadata": {},
          "execution_count": 37
        },
        {
          "output_type": "stream",
          "name": "stdout",
          "text": [
            "time: 12.2 ms (started: 2021-10-19 23:03:10 +00:00)\n"
          ]
        }
      ]
    },
    {
      "cell_type": "markdown",
      "metadata": {
        "id": "qsqVubA6N4AX"
      },
      "source": [
        "Begin Inference Model"
      ]
    },
    {
      "cell_type": "code",
      "metadata": {
        "colab": {
          "base_uri": "https://localhost:8080/"
        },
        "id": "Q-_N0eMxN8Se",
        "outputId": "5c58b36e-d952-4ec3-8ea5-a562c2dd9eb5"
      },
      "source": [
        "encoder_model = Model(encoder_inputs, encoder_states)"
      ],
      "execution_count": null,
      "outputs": [
        {
          "output_type": "stream",
          "name": "stdout",
          "text": [
            "time: 11.1 ms (started: 2021-10-19 23:03:10 +00:00)\n"
          ]
        }
      ]
    },
    {
      "cell_type": "code",
      "metadata": {
        "colab": {
          "base_uri": "https://localhost:8080/"
        },
        "id": "nR75u1j0N-e2",
        "outputId": "6b53dfca-a0ad-4028-9f55-c14a7f1ceaa5"
      },
      "source": [
        "decoder_state_input_h = Input(shape=(LSTMoutputDimension,))\n",
        "decoder_state_input_c = Input(shape=(LSTMoutputDimension,))\n",
        "decoder_states_inputs = [decoder_state_input_h, decoder_state_input_c]\n",
        "\n",
        "\n",
        "decoder1_outputs, _, _= decoder_lstm1(decoder_inputs,\n",
        "                                     initial_state=decoder_states_inputs)\n",
        "decoder_outputs, state_h, state_c = decoder_lstm2(decoder1_outputs)\n",
        "\n",
        "decoder_states = [state_h, state_c]\n",
        "decoder_outputs = decoder_dense(decoder_outputs)\n",
        "decoder_model = Model(\n",
        "    [decoder_inputs] + decoder_states_inputs,\n",
        "    [decoder_outputs] + decoder_states)"
      ],
      "execution_count": null,
      "outputs": [
        {
          "output_type": "stream",
          "name": "stdout",
          "text": [
            "time: 686 ms (started: 2021-10-19 23:03:10 +00:00)\n"
          ]
        }
      ]
    },
    {
      "cell_type": "code",
      "metadata": {
        "id": "Bv2XYm4bwaGW",
        "colab": {
          "base_uri": "https://localhost:8080/"
        },
        "outputId": "1c8a4575-4a30-42ad-828e-ed2c665aa0eb"
      },
      "source": [
        "def decode_sequence(input_seq):\n",
        "    # Encode the input as state vectors.\n",
        "    states_value = encoder_model.predict(input_seq)\n",
        "\n",
        "    # Generate empty target sequence of length 1.\n",
        "    target_seq = np.zeros((1, 12, 11)) \n",
        "\n",
        "    # Sampling loop for a batch of sequences\n",
        "    # (to simplify, here we assume a batch of size 1).\n",
        "    stop_condition = False\n",
        "    decoded_seq = list()\n",
        "    while not stop_condition:\n",
        "\n",
        "        # in a loop\n",
        "        # decode the input to a token/output prediction + required states for context vector\n",
        "        output_tokens, h, c = decoder_model.predict(\n",
        "            [target_seq] + states_value)\n",
        "\n",
        "        # convert the token/output prediction to a token/output\n",
        "        sampled_token_index = output_tokens[0, -1, :]\n",
        "        sampled_char = sampled_token_index\n",
        "        # add the predicted token/output to output sequence\n",
        "        decoded_seq.append(sampled_char)\n",
        "        \n",
        "\n",
        "        # Exit condition: either hit max length\n",
        "        # or find stop character.\n",
        "        if (sampled_char[-4] <= 0.01):\n",
        "            stop_condition = True\n",
        "\n",
        "        # Update the input target sequence (of length 1) \n",
        "        # with the predicted token/output \n",
        "        target_seq[0, 0, :] = sampled_char[:]\n",
        "\n",
        "        # Update input states (context vector) \n",
        "        # with the ouputed states\n",
        "        states_value = [h, c]\n",
        "\n",
        "        # loop back.....\n",
        "        \n",
        "    # when loop exists return the output sequence\n",
        "    return decoded_seq"
      ],
      "execution_count": null,
      "outputs": [
        {
          "output_type": "stream",
          "name": "stdout",
          "text": [
            "time: 22.2 ms (started: 2021-10-19 23:03:10 +00:00)\n"
          ]
        }
      ]
    },
    {
      "cell_type": "code",
      "metadata": {
        "id": "qiUZirV005cY",
        "colab": {
          "base_uri": "https://localhost:8080/"
        },
        "outputId": "439d27a7-ba06-4264-a0cf-0e9e5a8ad35a"
      },
      "source": [
        "decode_sequence(X_test[:1])"
      ],
      "execution_count": null,
      "outputs": [
        {
          "output_type": "execute_result",
          "data": {
            "text/plain": [
              "[array([-0.00628553, -0.04004932, -0.03831182, -0.0522132 , -0.02104091,\n",
              "         0.03438493,  0.10279378, -0.01509304, -0.02660553, -0.01120249,\n",
              "        -0.01458863], dtype=float32)]"
            ]
          },
          "metadata": {},
          "execution_count": 41
        },
        {
          "output_type": "stream",
          "name": "stdout",
          "text": [
            "time: 3.98 s (started: 2021-10-19 23:03:10 +00:00)\n"
          ]
        }
      ]
    }
  ]
}
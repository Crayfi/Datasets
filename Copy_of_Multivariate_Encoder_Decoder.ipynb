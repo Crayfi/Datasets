{
  "nbformat": 4,
  "nbformat_minor": 0,
  "metadata": {
    "colab": {
      "name": "Copy of Multivariate Encoder Decoder.ipynb",
      "provenance": [],
      "authorship_tag": "ABX9TyMLdVwgSyOb3ypK12lcRWKC",
      "include_colab_link": true
    },
    "kernelspec": {
      "name": "python3",
      "display_name": "Python 3"
    },
    "language_info": {
      "name": "python"
    },
    "accelerator": "GPU"
  },
  "cells": [
    {
      "cell_type": "markdown",
      "metadata": {
        "id": "view-in-github",
        "colab_type": "text"
      },
      "source": [
        "<a href=\"https://colab.research.google.com/github/Crayfi/Datasets/blob/main/Copy_of_Multivariate_Encoder_Decoder.ipynb\" target=\"_parent\"><img src=\"https://colab.research.google.com/assets/colab-badge.svg\" alt=\"Open In Colab\"/></a>"
      ]
    },
    {
      "cell_type": "code",
      "metadata": {
        "id": "n8iyyhkub7y5"
      },
      "source": [
        "#@title Import Libraries\n",
        "from random import randint\n",
        "from numpy import array\n",
        "from numpy import argmax\n",
        "import keras.backend as K\n",
        "from tensorflow.keras import models\n",
        "from numpy import array_equal\n",
        "import numpy as np\n",
        "import pandas as pd\n",
        "from sklearn.preprocessing import MinMaxScaler\n",
        "from tensorflow.keras.models import Sequential, Model\n",
        "from tensorflow.keras.layers import LSTM, Bidirectional\n",
        "from tensorflow.keras.layers import Dense, Flatten\n",
        "from tensorflow.keras import Input\n",
        "from tensorflow.keras.layers import TimeDistributed\n",
        "from tensorflow.keras.layers import RepeatVector\n",
        "from tensorflow.keras.callbacks import EarlyStopping\n",
        "from tensorflow.keras.utils import plot_model\n",
        "from tensorflow.keras.models import load_model\n",
        "from tensorflow.keras.preprocessing.sequence import pad_sequences\n",
        "import matplotlib.pyplot as plt\n",
        "\n",
        "from tensorflow.keras.layers import Lambda\n",
        "from tensorflow.keras import backend as K\n",
        "\n",
        "from scipy.ndimage.interpolation import shift"
      ],
      "execution_count": null,
      "outputs": []
    },
    {
      "cell_type": "code",
      "metadata": {
        "colab": {
          "base_uri": "https://localhost:8080/"
        },
        "id": "6CN67sRUaqdo",
        "outputId": "6db8135d-3b2f-46dc-dee3-749e90920914"
      },
      "source": [
        "#@title Check GPU\n",
        "%tensorflow_version 2.x\n",
        "import tensorflow as tf\n",
        "device_name = tf.test.gpu_device_name()\n",
        "if device_name != '/device:GPU:0':\n",
        "  print('GPU device not found')\n",
        "else:\n",
        "  print('Found GPU at: {}'.format(device_name))"
      ],
      "execution_count": null,
      "outputs": [
        {
          "output_type": "stream",
          "name": "stdout",
          "text": [
            "GPU device not found\n"
          ]
        }
      ]
    },
    {
      "cell_type": "code",
      "metadata": {
        "colab": {
          "base_uri": "https://localhost:8080/"
        },
        "id": "tTDM-qJna8jP",
        "outputId": "298db408-6016-439c-e706-733f6f2326a2"
      },
      "source": [
        "#@title Version Info\n",
        "print('tf version: ', tf.__version__)\n",
        "print('tf.keras version:', tf.keras.__version__)"
      ],
      "execution_count": null,
      "outputs": [
        {
          "output_type": "stream",
          "name": "stdout",
          "text": [
            "tf version:  2.6.0\n",
            "tf.keras version: 2.6.0\n"
          ]
        }
      ]
    },
    {
      "cell_type": "code",
      "metadata": {
        "colab": {
          "base_uri": "https://localhost:8080/"
        },
        "id": "4L5-xg7la8gL",
        "outputId": "f7f8bcbd-1c66-4861-c6b9-d8c1de3a17ce"
      },
      "source": [
        "#@title Time\n",
        "!pip install ipython-autotime\n",
        "\n",
        "%load_ext autotime"
      ],
      "execution_count": null,
      "outputs": [
        {
          "output_type": "stream",
          "name": "stdout",
          "text": [
            "Collecting ipython-autotime\n",
            "  Downloading ipython_autotime-0.3.1-py2.py3-none-any.whl (6.8 kB)\n",
            "Requirement already satisfied: ipython in /usr/local/lib/python3.7/dist-packages (from ipython-autotime) (5.5.0)\n",
            "Requirement already satisfied: simplegeneric>0.8 in /usr/local/lib/python3.7/dist-packages (from ipython->ipython-autotime) (0.8.1)\n",
            "Requirement already satisfied: pygments in /usr/local/lib/python3.7/dist-packages (from ipython->ipython-autotime) (2.6.1)\n",
            "Requirement already satisfied: decorator in /usr/local/lib/python3.7/dist-packages (from ipython->ipython-autotime) (4.4.2)\n",
            "Requirement already satisfied: pickleshare in /usr/local/lib/python3.7/dist-packages (from ipython->ipython-autotime) (0.7.5)\n",
            "Requirement already satisfied: setuptools>=18.5 in /usr/local/lib/python3.7/dist-packages (from ipython->ipython-autotime) (57.4.0)\n",
            "Requirement already satisfied: pexpect in /usr/local/lib/python3.7/dist-packages (from ipython->ipython-autotime) (4.8.0)\n",
            "Requirement already satisfied: prompt-toolkit<2.0.0,>=1.0.4 in /usr/local/lib/python3.7/dist-packages (from ipython->ipython-autotime) (1.0.18)\n",
            "Requirement already satisfied: traitlets>=4.2 in /usr/local/lib/python3.7/dist-packages (from ipython->ipython-autotime) (5.1.0)\n",
            "Requirement already satisfied: six>=1.9.0 in /usr/local/lib/python3.7/dist-packages (from prompt-toolkit<2.0.0,>=1.0.4->ipython->ipython-autotime) (1.15.0)\n",
            "Requirement already satisfied: wcwidth in /usr/local/lib/python3.7/dist-packages (from prompt-toolkit<2.0.0,>=1.0.4->ipython->ipython-autotime) (0.2.5)\n",
            "Requirement already satisfied: ptyprocess>=0.5 in /usr/local/lib/python3.7/dist-packages (from pexpect->ipython->ipython-autotime) (0.7.0)\n",
            "Installing collected packages: ipython-autotime\n",
            "Successfully installed ipython-autotime-0.3.1\n",
            "time: 135 µs (started: 2021-10-20 16:32:52 +00:00)\n"
          ]
        }
      ]
    },
    {
      "cell_type": "code",
      "metadata": {
        "colab": {
          "base_uri": "https://localhost:8080/"
        },
        "id": "pOxJhz8Ao3NT",
        "outputId": "924dbb71-da92-490a-ef29-78063cd257da"
      },
      "source": [
        "#@title Variables\n",
        "\n",
        "stepsForward = 4\n",
        "stepsBack = 10\n",
        "trainTestSplit = 0.75\n",
        "LSTMoutputDimension = 50"
      ],
      "execution_count": null,
      "outputs": [
        {
          "output_type": "stream",
          "name": "stdout",
          "text": [
            "time: 1.48 ms (started: 2021-10-20 16:50:40 +00:00)\n"
          ]
        }
      ]
    },
    {
      "cell_type": "code",
      "metadata": {
        "colab": {
          "base_uri": "https://localhost:8080/"
        },
        "id": "Ck3BOF5_a8dD",
        "outputId": "c8fb8e5e-64e3-491a-bfdf-bd87d79279d3"
      },
      "source": [
        "# open database try the processed file first, process if needed\n",
        "try:\n",
        "  file = open('buy_average_fill.csv', 'r')\n",
        "  df = pd.read_csv(file, error_bad_lines=False)\n",
        "except:\n",
        "  try:\n",
        "    file = open('buy_average.csv', 'r')\n",
        "    df = pd.read_csv(file, error_bad_lines=False)\n",
        "\n",
        "    def fill_zeros(x):\n",
        "      # make first row all 1s\n",
        "      x.iloc[0] = [1]*len(x.columns)\n",
        "\n",
        "      # fill zeros in with previous price\n",
        "      for i in x.columns:\n",
        "        for j in range(len(x)):\n",
        "          #TODO update with historical data later\n",
        "          if (x[i][j] == 0 ):\n",
        "            x[i][j] = x[i][j-1]\n",
        "      return x\n",
        "\n",
        "    df = fill_zeros(df)\n",
        "    df.to_csv('buy_average_fill.csv')\n",
        "  except:\n",
        "    print('Can\\'t locate buy_average.csv or buy_average_fill.csv ')\n",
        "\n",
        "try:\n",
        "  file = open('buy_quantity.csv', 'r')\n",
        "  df_buy_quantity = pd.read_csv(file, error_bad_lines=False)\n",
        "  df_buy_quantity.iloc[0] = [1]*len(df_buy_quantity.columns)\n",
        "  df_buy_quantity = pd.DataFrame(df_buy_quantity.Cannonball)\n",
        "except:\n",
        "  print('Can\\'t locate buy_quantity.csv')"
      ],
      "execution_count": null,
      "outputs": [
        {
          "output_type": "stream",
          "name": "stderr",
          "text": [
            "b'Skipping line 2840: expected 3658 fields, saw 3781\\nSkipping line 2841: expected 3658 fields, saw 3781\\nSkipping line 2842: expected 3658 fields, saw 3781\\nSkipping line 2843: expected 3658 fields, saw 3781\\nSkipping line 2844: expected 3658 fields, saw 3781\\n'\n"
          ]
        },
        {
          "output_type": "stream",
          "name": "stdout",
          "text": [
            "time: 2.53 s (started: 2021-10-20 16:50:41 +00:00)\n"
          ]
        }
      ]
    },
    {
      "cell_type": "code",
      "metadata": {
        "colab": {
          "base_uri": "https://localhost:8080/"
        },
        "id": "-DAiRcS9sV08",
        "outputId": "a44bede0-1a54-4f96-fce0-cc95b03604ef"
      },
      "source": [
        "#df.to_csv('buy_average_fill.csv')\n",
        "assert(np.all(df.values[1, 2:] == df.values[1, 2:])) "
      ],
      "execution_count": null,
      "outputs": [
        {
          "output_type": "stream",
          "name": "stdout",
          "text": [
            "time: 1.82 ms (started: 2021-10-20 16:50:43 +00:00)\n"
          ]
        }
      ]
    },
    {
      "cell_type": "code",
      "metadata": {
        "id": "q9r2KEa0a8al",
        "colab": {
          "base_uri": "https://localhost:8080/"
        },
        "outputId": "e0800f2e-2c25-490f-bab1-3cec739477af"
      },
      "source": [
        "# Replace Cannonball with any item name in df\n",
        "# drop first row of 1s\n",
        "df_item = pd.DataFrame(df.Cannonball)[1:]\n",
        "df_buy_quantity = df_buy_quantity[1:]\n",
        "drop = []\n",
        "#remove duplicate entries\n",
        "for i in range(1, len(df_item)):\n",
        "  if np.all(df_item.values[i, 0] == df_item.values[i-1, 0]):\n",
        "    drop.append(i)\n",
        "for i in drop:\n",
        "  df_item = df_item.drop([i])\n",
        "  df_buy_quantity = df_buy_quantity.drop([i])\n",
        "\n",
        "# calculate change in flow per trade\n",
        "flow = np.multiply(df_item[:], df_buy_quantity[:])\n",
        "\n",
        "\n",
        "# Fit values between 0 and 1\n",
        "# TODO: make function to accept list of items with different models each\n",
        "minmax_price = MinMaxScaler().fit(df_item.values.reshape((-1,1)))\n",
        "df_price = minmax_price.transform(df_item.values.reshape((-1,1)))\n",
        "\n",
        "minmax_buy_quant = MinMaxScaler().fit(df_buy_quantity.values.reshape((-1,1)))\n",
        "df_buy_quant_normalize = minmax_buy_quant.transform(df_buy_quantity.values.reshape((-1,1)))\n",
        "\n",
        "minmax_flow = MinMaxScaler().fit(flow.values.reshape((-1,1)))\n",
        "df_flow = minmax_flow.transform(flow.values.reshape((-1,1)))\n",
        "for i in range(len(df_flow)):\n",
        "  df_flow[i] = float(df_flow[i])\n",
        "\n",
        "df_normalize = list(zip(df_price, df_buy_quant_normalize, df_flow))\n",
        "\n",
        "def walk_forward(X, stepsBack, stepsForward, trainTestSplit):\n",
        "  n_records = len(X)\n",
        "  dfx = X.copy()\n",
        "  split = int(n_records*trainTestSplit-stepsForward)\n",
        "  x = []\n",
        "  y = []\n",
        "  for i in range(n_records):\n",
        "    x.append(dfx[i : i + stepsBack])  \n",
        "    y.append(dfx[i + stepsBack : i + stepsBack + stepsForward,0])\n",
        "\n",
        "  xtrain = x[:split-stepsBack]\n",
        "  ytrain = y[:split-stepsBack]\n",
        "\n",
        "  xtest = x[split: n_records - stepsBack]\n",
        "  ytest = y[split: n_records - stepsBack]\n",
        "\t\n",
        "  return np.asarray(xtrain), np.asarray(ytrain), np.asarray(xtest), np.asarray(ytest)\n",
        "\n",
        "X_train, y_train, X_test, y_test = walk_forward(np.copy(df_normalize), stepsBack, stepsForward, trainTestSplit)\n",
        "\n",
        "#print('train=%d, test=%d' % (len(X_train), len(X_test))) \n",
        "\n",
        "X_train = np.reshape(X_train,(len(X_train),stepsBack,len(X_train[0][0])))\n",
        "X_test = np.reshape(X_test,(len(X_test),stepsBack,len(X_test[0][0])))\n",
        "\n",
        "# pad the output to equal the input\n",
        "y_train_padded = pad_sequences(np.array(y_train), maxlen= stepsBack, \n",
        "                               padding='post', dtype='float32')\n",
        "y_test_padded = pad_sequences(np.array(y_test), maxlen= stepsBack, \n",
        "                               padding='post', dtype='float32')"
      ],
      "execution_count": null,
      "outputs": [
        {
          "output_type": "stream",
          "name": "stdout",
          "text": [
            "time: 1.8 s (started: 2021-10-20 16:50:43 +00:00)\n"
          ]
        },
        {
          "output_type": "stream",
          "name": "stderr",
          "text": [
            "/usr/local/lib/python3.7/dist-packages/numpy/core/_asarray.py:83: VisibleDeprecationWarning: Creating an ndarray from ragged nested sequences (which is a list-or-tuple of lists-or-tuples-or ndarrays with different lengths or shapes) is deprecated. If you meant to do this, you must specify 'dtype=object' when creating the ndarray\n",
            "  return array(a, dtype, copy=False, order=order)\n"
          ]
        }
      ]
    },
    {
      "cell_type": "code",
      "metadata": {
        "colab": {
          "base_uri": "https://localhost:8080/"
        },
        "id": "UBT9nMPJM54f",
        "outputId": "4a4e31bb-ea4b-4657-b273-76dca5321bc7"
      },
      "source": [
        "len(X_train[0][0])"
      ],
      "execution_count": null,
      "outputs": [
        {
          "output_type": "execute_result",
          "data": {
            "text/plain": [
              "3"
            ]
          },
          "metadata": {},
          "execution_count": 94
        },
        {
          "output_type": "stream",
          "name": "stdout",
          "text": [
            "time: 6.16 ms (started: 2021-10-20 16:50:45 +00:00)\n"
          ]
        }
      ]
    },
    {
      "cell_type": "code",
      "metadata": {
        "colab": {
          "base_uri": "https://localhost:8080/"
        },
        "id": "iJJVaLEcSqkf",
        "outputId": "e16ff574-a6e7-436d-81bf-77af58ea86c7"
      },
      "source": [
        "len(df_price)"
      ],
      "execution_count": null,
      "outputs": [
        {
          "output_type": "execute_result",
          "data": {
            "text/plain": [
              "308"
            ]
          },
          "metadata": {},
          "execution_count": 95
        },
        {
          "output_type": "stream",
          "name": "stdout",
          "text": [
            "time: 5.24 ms (started: 2021-10-20 16:50:45 +00:00)\n"
          ]
        }
      ]
    },
    {
      "cell_type": "code",
      "metadata": {
        "colab": {
          "base_uri": "https://localhost:8080/"
        },
        "id": "qfJGMbbSgC0F",
        "outputId": "f9645fae-0aa8-4d6d-8d8d-155143b1da7e"
      },
      "source": [
        "X_train[:2]"
      ],
      "execution_count": null,
      "outputs": [
        {
          "output_type": "execute_result",
          "data": {
            "text/plain": [
              "array([[[0.77777778, 0.51248131, 0.55139904],\n",
              "        [0.83333333, 0.4726638 , 0.51266079],\n",
              "        [0.77777778, 0.35311465, 0.38200646],\n",
              "        [0.72222222, 0.39621318, 0.42465759],\n",
              "        [0.66666667, 0.38254718, 0.40712517],\n",
              "        [0.61111111, 0.35045959, 0.37047191],\n",
              "        [0.66666667, 0.2817725 , 0.30113227],\n",
              "        [0.61111111, 0.33852442, 0.35798514],\n",
              "        [0.55555556, 0.27713035, 0.29125759],\n",
              "        [0.61111111, 0.19273975, 0.20546286]],\n",
              "\n",
              "       [[0.83333333, 0.4726638 , 0.51266079],\n",
              "        [0.77777778, 0.35311465, 0.38200646],\n",
              "        [0.72222222, 0.39621318, 0.42465759],\n",
              "        [0.66666667, 0.38254718, 0.40712517],\n",
              "        [0.61111111, 0.35045959, 0.37047191],\n",
              "        [0.66666667, 0.2817725 , 0.30113227],\n",
              "        [0.61111111, 0.33852442, 0.35798514],\n",
              "        [0.55555556, 0.27713035, 0.29125759],\n",
              "        [0.61111111, 0.19273975, 0.20546286],\n",
              "        [0.66666667, 0.13119024, 0.14275268]]])"
            ]
          },
          "metadata": {},
          "execution_count": 96
        },
        {
          "output_type": "stream",
          "name": "stdout",
          "text": [
            "time: 6.41 ms (started: 2021-10-20 16:50:45 +00:00)\n"
          ]
        }
      ]
    },
    {
      "cell_type": "code",
      "metadata": {
        "id": "85yOeJa3a8Ys",
        "colab": {
          "base_uri": "https://localhost:8080/"
        },
        "outputId": "191f31f8-1e1b-41fd-adc7-40ee2e5d88c7"
      },
      "source": [
        "# decode input data, shift to the right and put zero as first char\n",
        "def decoder_data(x):\n",
        "  df = x.copy()\n",
        "  for i in range(len(df)):\n",
        "    for j in np.flip(range(stepsBack)):\n",
        "      df[i][j] = df[i][j-1]\n",
        "  return df\n",
        "\n",
        "'''\n",
        "# decoder input data\n",
        "# [1, [0]*len(sequence)] - start sequence\n",
        "# [0, pred_sequence] - followed by predict sequences\n",
        "# ...\n",
        "# [0, [0]*len(sequence)] - end sequence\n",
        "\n",
        "def decoder_data(x):\n",
        "  df = x.copy()\n",
        "  new_df = np.zeros((len(df),2+stepsBack,1+stepsBack))\n",
        "  for i in range(len(df)):\n",
        "    # first row\n",
        "    new_df[i,0,0] = 1\n",
        "    # following predictions\n",
        "    for j in range(1, stepsBack):\n",
        "      for k in range(1, 1+stepsBack):\n",
        "        new_df[i,j,k] = float(df[j-1,k-1])\n",
        "\n",
        "  return new_df\n",
        "\n",
        "def transform_ydata(x):\n",
        "  df = x.copy()\n",
        "  new_df = np.zeros((len(df),2+stepsBack,1+stepsBack))\n",
        "  for i in range(len(df)):\n",
        "    for j in range(stepsBack):\n",
        "      for k in range(1, 1+stepsBack):\n",
        "        new_df[i,j,k] = float(df[j,k-1])\n",
        "\n",
        "  return new_df\n",
        "\n",
        "def transform_xdata(x,price):\n",
        "  price_df = price.copy()\n",
        "  df = x.copy()\n",
        "  new_df = np.zeros((len(df),1+stepsBack,stepsBack+len(df[0][0])))\n",
        "  for i in range(len(df)-stepsBack):\n",
        "    for j in range(stepsBack):\n",
        "      #sequences\n",
        "      for k in range(1, 1+stepsBack):\n",
        "        new_df[i,j,k] = float(df[i+j,k-1,1])\n",
        "      #features\n",
        "      for l in range(len(df[0][0])-1):\n",
        "        new_df[i,j,1+stepsBack+l] = float(df[i,j,l+1])\n",
        "\n",
        "  return new_df\n",
        "'''\n",
        "y_train_decode = decoder_data(y_train_padded)\n",
        "y_test_decode = decoder_data(y_test_padded)\n",
        "\n",
        "'''\n",
        "X_train = transform_xdata(X_train, df_price)\n",
        "X_test = transform_xdata(X_test, df_price)\n",
        "y_train_padded = transform_ydata(y_train_padded)\n",
        "y_test_padded = transform_ydata(y_test_padded)\n",
        "'''\n",
        "\n",
        "y_train_decode = tf.convert_to_tensor(y_train_decode, dtype = tf.float32)\n",
        "y_test_decode = tf.convert_to_tensor(y_test_decode, dtype = tf.float32)\n",
        "X_train = tf.convert_to_tensor(X_train, dtype = tf.float32)\n",
        "X_test = tf.convert_to_tensor(X_test, dtype = tf.float32)\n",
        "y_train_padded = tf.convert_to_tensor(y_train_padded, dtype = tf.float32)\n",
        "y_test_padded = tf.convert_to_tensor(y_test_padded, dtype = tf.float32)"
      ],
      "execution_count": null,
      "outputs": [
        {
          "output_type": "stream",
          "name": "stdout",
          "text": [
            "time: 31.4 ms (started: 2021-10-20 16:50:45 +00:00)\n"
          ]
        }
      ]
    },
    {
      "cell_type": "code",
      "metadata": {
        "colab": {
          "base_uri": "https://localhost:8080/"
        },
        "id": "IikjVhHXW7AP",
        "outputId": "73e120b9-bca9-4171-fada-4c42d995608b"
      },
      "source": [
        "y_train_decode[:2]"
      ],
      "execution_count": null,
      "outputs": [
        {
          "output_type": "execute_result",
          "data": {
            "text/plain": [
              "<tf.Tensor: shape=(2, 10, 1), dtype=float32, numpy=\n",
              "array([[[0.       ],\n",
              "        [0.6666667],\n",
              "        [0.7222222],\n",
              "        [0.6111111],\n",
              "        [0.5555556],\n",
              "        [0.       ],\n",
              "        [0.       ],\n",
              "        [0.       ],\n",
              "        [0.       ],\n",
              "        [0.       ]],\n",
              "\n",
              "       [[0.       ],\n",
              "        [0.7222222],\n",
              "        [0.6111111],\n",
              "        [0.5555556],\n",
              "        [0.6111111],\n",
              "        [0.       ],\n",
              "        [0.       ],\n",
              "        [0.       ],\n",
              "        [0.       ],\n",
              "        [0.       ]]], dtype=float32)>"
            ]
          },
          "metadata": {},
          "execution_count": 98
        },
        {
          "output_type": "stream",
          "name": "stdout",
          "text": [
            "time: 5.8 ms (started: 2021-10-20 16:50:45 +00:00)\n"
          ]
        }
      ]
    },
    {
      "cell_type": "code",
      "metadata": {
        "colab": {
          "base_uri": "https://localhost:8080/"
        },
        "id": "V6Fia65KkkQ-",
        "outputId": "30932b8f-a24b-40cb-d17d-5575b6422d81"
      },
      "source": [
        "y_train_padded[:2]"
      ],
      "execution_count": null,
      "outputs": [
        {
          "output_type": "execute_result",
          "data": {
            "text/plain": [
              "<tf.Tensor: shape=(2, 10, 1), dtype=float32, numpy=\n",
              "array([[[0.6666667],\n",
              "        [0.7222222],\n",
              "        [0.6111111],\n",
              "        [0.5555556],\n",
              "        [0.       ],\n",
              "        [0.       ],\n",
              "        [0.       ],\n",
              "        [0.       ],\n",
              "        [0.       ],\n",
              "        [0.       ]],\n",
              "\n",
              "       [[0.7222222],\n",
              "        [0.6111111],\n",
              "        [0.5555556],\n",
              "        [0.6111111],\n",
              "        [0.       ],\n",
              "        [0.       ],\n",
              "        [0.       ],\n",
              "        [0.       ],\n",
              "        [0.       ],\n",
              "        [0.       ]]], dtype=float32)>"
            ]
          },
          "metadata": {},
          "execution_count": 99
        },
        {
          "output_type": "stream",
          "name": "stdout",
          "text": [
            "time: 5.74 ms (started: 2021-10-20 16:50:45 +00:00)\n"
          ]
        }
      ]
    },
    {
      "cell_type": "code",
      "metadata": {
        "colab": {
          "base_uri": "https://localhost:8080/"
        },
        "id": "ZNXJPevNj1V5",
        "outputId": "4e700fac-a381-468e-e5a6-346203f5095c"
      },
      "source": [
        "df_buy_quant_normalize[:10]"
      ],
      "execution_count": null,
      "outputs": [
        {
          "output_type": "execute_result",
          "data": {
            "text/plain": [
              "array([[0.51248131],\n",
              "       [0.4726638 ],\n",
              "       [0.35311465],\n",
              "       [0.39621318],\n",
              "       [0.38254718],\n",
              "       [0.35045959],\n",
              "       [0.2817725 ],\n",
              "       [0.33852442],\n",
              "       [0.27713035],\n",
              "       [0.19273975]])"
            ]
          },
          "metadata": {},
          "execution_count": 100
        },
        {
          "output_type": "stream",
          "name": "stdout",
          "text": [
            "time: 4.34 ms (started: 2021-10-20 16:50:45 +00:00)\n"
          ]
        }
      ]
    },
    {
      "cell_type": "code",
      "metadata": {
        "id": "Bj4Rozt6a8TH",
        "colab": {
          "base_uri": "https://localhost:8080/",
          "height": 188
        },
        "outputId": "0c7782e6-57fa-402d-a845-908fe6e5f4e7"
      },
      "source": [
        "# define the model\n",
        "encoder_inputs= Input(shape=(stepsBack, len(X_train[0][0])), name='encoder_inputs')\n",
        "\n",
        "masking = tf.keras.layers.Masking(mask_value= 0)\n",
        "encoder_inputs_masked = masking(encoder_inputs)\n",
        "\n",
        "\n",
        "encoder_lstm1=LSTM(LSTMoutputDimension, return_sequences=True, name='encoder_lstm1')\n",
        "LSTM_outputs = encoder_lstm1(encoder_inputs_masked)\n",
        "LSTM_outputs = TimeDistributed(Dense(stepsBack)) (LSTM_outputs)\n",
        "encoder_lstm2=LSTM(LSTMoutputDimension, return_state=True, name='encoder_lstm2')\n",
        "LSTM_outputs, state_h, state_c = encoder_lstm2(LSTM_outputs)\n",
        "\n",
        "# We discard `LSTM_outputs` and only keep the other states.\n",
        "encoder_states = [state_h, state_c]\n",
        "\n",
        "decoder_inputs = Input(shape=(stepsBack,1), name='decoder_inputs')\n",
        "\n",
        "decoder_lstm1 = LSTM(LSTMoutputDimension, return_sequences=True, return_state=True, name='decoder_lstm1')\n",
        "\n",
        "# Set up the decoder, using `context vector` as initial state.\n",
        "decoder1_outputs, _, _= decoder_lstm1(decoder_inputs,\n",
        "                                     initial_state=encoder_states)\n",
        "decoder_lstm2 = LSTM(LSTMoutputDimension, return_sequences=True, return_state=True, name='decoder_lstm2')\n",
        "decoder_outputs, _, _ = decoder_lstm2(decoder1_outputs)\n",
        "\n",
        "#complete the decoder model by adding a Dense layer with Softmax activation function \n",
        "#for prediction of the next output\n",
        "#Dense layer will output one-hot encoded representation as we did for input\n",
        "#Therefore, we will use input_dimension number of neurons\n",
        "decoder_dense = TimeDistributed(Dense(1, activation='LeakyReLU', name='decoder_dense'))\n",
        "decoder_outputs = decoder_dense(decoder_outputs)\n",
        "\n",
        "# put together\n",
        "model_encoder_training = Model([encoder_inputs, decoder_inputs], \n",
        "                               decoder_outputs, name='model_encoder_training')\n",
        "'''\n",
        "def loss_fun1(y_true, y_pred):\n",
        "    \n",
        "    loss  = tf.nn.sigmoid_cross....\n",
        "    return loss\n",
        "\n",
        "def loss_fun2(y_true, y_pred):\n",
        "     # do whatever you want\n",
        "    loss  = tf.nn.sigmoid_cross....\n",
        "    return loss\n",
        "\n",
        "def loss_fun3(y_true, y_pred):\n",
        "     # do whatever you want\n",
        "    loss  = tf.nn.sigmoid_cross....\n",
        "    return loss\n",
        "\n",
        "losses ={'output_layer1':loss_fun1,\n",
        "          'output_layer2':loss_fun2,\n",
        "          'output_layer2':loss_fun3\n",
        "        }\n",
        "\n",
        "lossWeights={'output_layer1':0.5,\n",
        "          'output_layer2':0.3,\n",
        "          'output_layer3':0.2  \n",
        "        }\n",
        "\n",
        "target1 = tf.placeholder(dtype='float32', shape=(1)) # shapes of output1 your target has\n",
        "target2 = tf.placeholder(dtype='float32', shape=(1)) # shapes of output2 your target has\n",
        "target3 = tf.placeholder(dtype='float32', shape=(1))\n",
        "\n",
        "model.compile(optimizer='rmsprop',\n",
        "             loss=losses,\n",
        "             loss_weights= lossWeights,\n",
        "             target_tensors=[target1, target2, target3],\n",
        "             metrics=['accuracy']                      \n",
        "             )'''"
      ],
      "execution_count": null,
      "outputs": [
        {
          "output_type": "execute_result",
          "data": {
            "application/vnd.google.colaboratory.intrinsic+json": {
              "type": "string"
            },
            "text/plain": [
              "\"\\ndef loss_fun1(y_true, y_pred):\\n    \\n    loss  = tf.nn.sigmoid_cross....\\n    return loss\\n\\ndef loss_fun2(y_true, y_pred):\\n     # do whatever you want\\n    loss  = tf.nn.sigmoid_cross....\\n    return loss\\n\\ndef loss_fun3(y_true, y_pred):\\n     # do whatever you want\\n    loss  = tf.nn.sigmoid_cross....\\n    return loss\\n\\nlosses ={'output_layer1':loss_fun1,\\n          'output_layer2':loss_fun2,\\n          'output_layer2':loss_fun3\\n        }\\n\\nlossWeights={'output_layer1':0.5,\\n          'output_layer2':0.3,\\n          'output_layer3':0.2  \\n        }\\n\\ntarget1 = tf.placeholder(dtype='float32', shape=(1)) # shapes of output1 your target has\\ntarget2 = tf.placeholder(dtype='float32', shape=(1)) # shapes of output2 your target has\\ntarget3 = tf.placeholder(dtype='float32', shape=(1))\\n\\nmodel.compile(optimizer='rmsprop',\\n             loss=losses,\\n             loss_weights= lossWeights,\\n             target_tensors=[target1, target2, target3],\\n             metrics=['accuracy']                      \\n             )\""
            ]
          },
          "metadata": {},
          "execution_count": 101
        },
        {
          "output_type": "stream",
          "name": "stdout",
          "text": [
            "time: 2.16 s (started: 2021-10-20 16:50:45 +00:00)\n"
          ]
        }
      ]
    },
    {
      "cell_type": "code",
      "metadata": {
        "id": "Z0EfLO8Na8Pz",
        "colab": {
          "base_uri": "https://localhost:8080/",
          "height": 1000
        },
        "outputId": "18c7fc7b-0434-490f-ebc1-68912ecce0a1"
      },
      "source": [
        "model_encoder_training.compile(optimizer='adam', loss=tf.keras.losses.Huber(), \n",
        "                               metrics=['accuracy'])\n",
        "model_encoder_training.summary()\n",
        "plot_model(model_encoder_training, show_shapes=True)"
      ],
      "execution_count": null,
      "outputs": [
        {
          "output_type": "stream",
          "name": "stdout",
          "text": [
            "Model: \"model_encoder_training\"\n",
            "__________________________________________________________________________________________________\n",
            "Layer (type)                    Output Shape         Param #     Connected to                     \n",
            "==================================================================================================\n",
            "encoder_inputs (InputLayer)     [(None, 10, 3)]      0                                            \n",
            "__________________________________________________________________________________________________\n",
            "masking_9 (Masking)             (None, 10, 3)        0           encoder_inputs[0][0]             \n",
            "__________________________________________________________________________________________________\n",
            "encoder_lstm1 (LSTM)            (None, 10, 50)       10800       masking_9[0][0]                  \n",
            "__________________________________________________________________________________________________\n",
            "time_distributed_15 (TimeDistri (None, 10, 10)       510         encoder_lstm1[0][0]              \n",
            "__________________________________________________________________________________________________\n",
            "decoder_inputs (InputLayer)     [(None, 10, 1)]      0                                            \n",
            "__________________________________________________________________________________________________\n",
            "encoder_lstm2 (LSTM)            [(None, 50), (None,  12200       time_distributed_15[0][0]        \n",
            "__________________________________________________________________________________________________\n",
            "decoder_lstm1 (LSTM)            [(None, 10, 50), (No 10400       decoder_inputs[0][0]             \n",
            "                                                                 encoder_lstm2[0][1]              \n",
            "                                                                 encoder_lstm2[0][2]              \n",
            "__________________________________________________________________________________________________\n",
            "decoder_lstm2 (LSTM)            [(None, 10, 50), (No 20200       decoder_lstm1[0][0]              \n",
            "__________________________________________________________________________________________________\n",
            "time_distributed_16 (TimeDistri (None, 10, 1)        51          decoder_lstm2[0][0]              \n",
            "==================================================================================================\n",
            "Total params: 54,161\n",
            "Trainable params: 54,161\n",
            "Non-trainable params: 0\n",
            "__________________________________________________________________________________________________\n"
          ]
        },
        {
          "output_type": "execute_result",
          "data": {
            "image/png": "[encoded data removed]",
            "text/plain": [
              "<IPython.core.display.Image object>"
            ]
          },
          "metadata": {},
          "execution_count": 102
        },
        {
          "output_type": "stream",
          "name": "stdout",
          "text": [
            "time: 159 ms (started: 2021-10-20 16:50:47 +00:00)\n"
          ]
        }
      ]
    },
    {
      "cell_type": "code",
      "metadata": {
        "id": "qOkU2u9ca8MY",
        "colab": {
          "base_uri": "https://localhost:8080/"
        },
        "outputId": "8bfed2bd-b0c9-4fc0-9d28-b5e68cea129d"
      },
      "source": [
        "def train_test(model, X_train, y_train , X_test, \ty_test, epochs=500, batch_size=32, patience=5,verbose=0):\n",
        "\t# patient early stopping\n",
        "\tes = EarlyStopping(monitor='val_accuracy', mode='max', min_delta=1, patience=20)\n",
        "\t#es = EarlyStopping(monitor='val_loss', mode='min', verbose=1, patience=patience)\n",
        "\t# train model\n",
        "\tprint('training for ',epochs,' epochs begins with EarlyStopping(monitor= val_accuracy, patience=',patience,')....')\n",
        "\thistory=model.fit(X_train, y_train, validation_data=(X_test, y_test), epochs=epochs,batch_size=batch_size, verbose=verbose, callbacks=[es])\n",
        "\tprint(epochs,' epoch training finished...')\n",
        "\n",
        "\t# report training\n",
        "\t# list all data in history\n",
        "\t#print(history.history.keys())\n",
        "\t# evaluate the model\n",
        "\t_, train_acc = model.evaluate(X_train, y_train, batch_size=batch_size, verbose=0)\n",
        "\t_, test_acc = model.evaluate(X_test, \ty_test, batch_size=batch_size, verbose=0)\n",
        "\tprint('\\nPREDICTION ACCURACY (%):')\n",
        "\tprint('Train: %.3f, Test: %.3f' % (train_acc*100, test_acc*100))\n",
        "\t# summarize history for accuracy\n",
        "\tplt.plot(history.history['accuracy'])\n",
        "\tplt.plot(history.history['val_accuracy'])\n",
        "\tplt.title(model.name+' accuracy')\n",
        "\tplt.ylabel('accuracy')\n",
        "\tplt.xlabel('epoch')\n",
        "\tplt.legend(['train', 'val'], loc='upper left')\n",
        "\tplt.show()\n",
        "\t# summarize history for loss\n",
        "\tplt.plot(history.history['loss'])\n",
        "\tplt.plot(history.history['val_loss'])\n",
        "\tplt.title(model.name+' loss')\n",
        "\tplt.ylabel('loss')\n",
        "\tplt.xlabel('epoch')\n",
        "\tplt.legend(['train', 'val'], loc='upper left')\n",
        "\tplt.show()\n",
        "\n",
        "\n",
        "\n",
        "\n",
        "  \n",
        "\t# spot check some examples\n",
        "\tspace = 3*len(y_test[0])\n",
        "\tprint('10 examples from test data...')\n",
        "\tprint('Input',' '*(space-4) ,'Expected',' '*(space-7) ,\n",
        "\t      'Predicted',' '*(space-5) ,'T/F')\n",
        "\tcorrect =0 \n",
        "\tsampleNo =  10\n",
        "\n",
        "\tpredicted= model.predict(X_test[:sampleNo], batch_size=batch_size)\n",
        "\tfor sample in range(0,sampleNo):\n",
        "\t\tif (y_test[sample][0][0]== predicted[sample][0][0]):\n",
        "\t\t\tcorrect+=1\n",
        "\t\t#print( X_test[0][sample], ' ', \n",
        "\t\t\t\t\t#y_test[sample],' ', predicted[sample],\n",
        "\t\t\t\t\t#' ',y_test[sample][0][0]== predicted[sample][0][0])\n",
        "\tprint('Accuracy: ', correct/sampleNo)\n",
        "\t"
      ],
      "execution_count": null,
      "outputs": [
        {
          "output_type": "stream",
          "name": "stdout",
          "text": [
            "time: 62.4 ms (started: 2021-10-20 16:50:48 +00:00)\n"
          ]
        }
      ]
    },
    {
      "cell_type": "code",
      "metadata": {
        "id": "kWQmI5PpF3ur"
      },
      "source": [
        ""
      ],
      "execution_count": null,
      "outputs": []
    },
    {
      "cell_type": "code",
      "metadata": {
        "id": "r_X9x7Z0vN1J",
        "colab": {
          "base_uri": "https://localhost:8080/",
          "height": 1000
        },
        "outputId": "a4172464-807d-4c70-d6b0-fad256a6aa4b"
      },
      "source": [
        "train_test(model_encoder_training, [X_train, y_train_decode], y_train_padded ,\n",
        "           [X_test, y_test_decode], \n",
        "           y_test_padded, epochs=50, batch_size=3, patience=3,verbose=2)"
      ],
      "execution_count": null,
      "outputs": [
        {
          "output_type": "stream",
          "name": "stdout",
          "text": [
            "training for  50  epochs begins with EarlyStopping(monitor= val_accuracy, patience= 3 )....\n",
            "Epoch 1/50\n",
            "73/73 - 14s - loss: 0.0166 - accuracy: 0.6018 - val_loss: 0.0075 - val_accuracy: 0.6254\n",
            "Epoch 2/50\n",
            "73/73 - 1s - loss: 0.0061 - accuracy: 0.6028 - val_loss: 0.0050 - val_accuracy: 0.6254\n",
            "Epoch 3/50\n",
            "73/73 - 1s - loss: 0.0059 - accuracy: 0.6032 - val_loss: 0.0081 - val_accuracy: 0.6254\n",
            "Epoch 4/50\n",
            "73/73 - 1s - loss: 0.0050 - accuracy: 0.6032 - val_loss: 0.0050 - val_accuracy: 0.6254\n",
            "Epoch 5/50\n",
            "73/73 - 1s - loss: 0.0039 - accuracy: 0.6037 - val_loss: 0.0081 - val_accuracy: 0.6254\n",
            "Epoch 6/50\n",
            "73/73 - 1s - loss: 0.0025 - accuracy: 0.6037 - val_loss: 0.0079 - val_accuracy: 0.6254\n",
            "Epoch 7/50\n",
            "73/73 - 1s - loss: 0.0022 - accuracy: 0.6037 - val_loss: 0.0054 - val_accuracy: 0.6254\n",
            "Epoch 8/50\n",
            "73/73 - 1s - loss: 0.0018 - accuracy: 0.6037 - val_loss: 0.0050 - val_accuracy: 0.6254\n",
            "Epoch 9/50\n",
            "73/73 - 1s - loss: 0.0017 - accuracy: 0.6037 - val_loss: 0.0049 - val_accuracy: 0.6254\n",
            "Epoch 10/50\n",
            "73/73 - 1s - loss: 0.0016 - accuracy: 0.6037 - val_loss: 0.0031 - val_accuracy: 0.6254\n",
            "Epoch 11/50\n",
            "73/73 - 1s - loss: 0.0015 - accuracy: 0.6037 - val_loss: 0.0037 - val_accuracy: 0.6254\n",
            "Epoch 12/50\n",
            "73/73 - 1s - loss: 0.0014 - accuracy: 0.6037 - val_loss: 0.0024 - val_accuracy: 0.6254\n",
            "Epoch 13/50\n",
            "73/73 - 1s - loss: 0.0013 - accuracy: 0.6037 - val_loss: 0.0036 - val_accuracy: 0.6254\n",
            "Epoch 14/50\n",
            "73/73 - 1s - loss: 0.0013 - accuracy: 0.6037 - val_loss: 0.0031 - val_accuracy: 0.6254\n",
            "Epoch 15/50\n",
            "73/73 - 1s - loss: 0.0013 - accuracy: 0.6037 - val_loss: 0.0038 - val_accuracy: 0.6254\n",
            "Epoch 16/50\n",
            "73/73 - 1s - loss: 0.0012 - accuracy: 0.6037 - val_loss: 0.0023 - val_accuracy: 0.6254\n",
            "Epoch 17/50\n",
            "73/73 - 1s - loss: 0.0012 - accuracy: 0.6037 - val_loss: 0.0029 - val_accuracy: 0.6254\n",
            "Epoch 18/50\n",
            "73/73 - 1s - loss: 0.0012 - accuracy: 0.6037 - val_loss: 0.0033 - val_accuracy: 0.6254\n",
            "Epoch 19/50\n",
            "73/73 - 1s - loss: 0.0011 - accuracy: 0.6037 - val_loss: 0.0025 - val_accuracy: 0.6254\n",
            "Epoch 20/50\n",
            "73/73 - 1s - loss: 0.0012 - accuracy: 0.6037 - val_loss: 0.0026 - val_accuracy: 0.6254\n",
            "Epoch 21/50\n",
            "73/73 - 1s - loss: 0.0011 - accuracy: 0.6037 - val_loss: 0.0026 - val_accuracy: 0.6254\n",
            "50  epoch training finished...\n",
            "\n",
            "PREDICTION ACCURACY (%):\n",
            "Train: 60.369, Test: 62.535\n"
          ]
        },
        {
          "output_type": "display_data",
          "data": {
            "image/png": "[encoded data removed]",
            "text/plain": [
              "<Figure size 432x288 with 1 Axes>"
            ]
          },
          "metadata": {
            "needs_background": "light"
          }
        },
        {
          "output_type": "display_data",
          "data": {
            "image/png": "[encoded data removed]",
            "text/plain": [
              "<Figure size 432x288 with 1 Axes>"
            ]
          },
          "metadata": {
            "needs_background": "light"
          }
        },
        {
          "output_type": "stream",
          "name": "stdout",
          "text": [
            "10 examples from test data...\n",
            "Input                            Expected                         Predicted                           T/F\n",
            "Accuracy:  0.0\n",
            "time: 53.5 s (started: 2021-10-20 16:50:48 +00:00)\n"
          ]
        }
      ]
    },
    {
      "cell_type": "code",
      "metadata": {
        "colab": {
          "base_uri": "https://localhost:8080/"
        },
        "id": "rhHF9LpZG3zu",
        "outputId": "9a328f32-c24d-45df-bdb8-80a7878999e0"
      },
      "source": [
        "model_encoder_training.predict([X_test[:1], y_test_decode[:1]])"
      ],
      "execution_count": null,
      "outputs": [
        {
          "output_type": "execute_result",
          "data": {
            "text/plain": [
              "array([[[ 0.40326932],\n",
              "        [ 0.4297627 ],\n",
              "        [ 0.42804074],\n",
              "        [ 0.38305396],\n",
              "        [-0.00919928],\n",
              "        [-0.00683184],\n",
              "        [-0.00471643],\n",
              "        [-0.00274015],\n",
              "        [-0.00388355],\n",
              "        [ 0.00104928]]], dtype=float32)"
            ]
          },
          "metadata": {},
          "execution_count": 105
        },
        {
          "output_type": "stream",
          "name": "stdout",
          "text": [
            "time: 52 ms (started: 2021-10-20 16:51:41 +00:00)\n"
          ]
        }
      ]
    },
    {
      "cell_type": "code",
      "metadata": {
        "id": "gmdEZZwQAtQG",
        "colab": {
          "base_uri": "https://localhost:8080/"
        },
        "outputId": "b2a5729a-9906-4faf-e3f5-574523304ff2"
      },
      "source": [
        "y_test_padded[:1]"
      ],
      "execution_count": null,
      "outputs": [
        {
          "output_type": "execute_result",
          "data": {
            "text/plain": [
              "<tf.Tensor: shape=(1, 10, 1), dtype=float32, numpy=\n",
              "array([[[0.44444445],\n",
              "        [0.3888889 ],\n",
              "        [0.33333334],\n",
              "        [0.3888889 ],\n",
              "        [0.        ],\n",
              "        [0.        ],\n",
              "        [0.        ],\n",
              "        [0.        ],\n",
              "        [0.        ],\n",
              "        [0.        ]]], dtype=float32)>"
            ]
          },
          "metadata": {},
          "execution_count": 106
        },
        {
          "output_type": "stream",
          "name": "stdout",
          "text": [
            "time: 6.43 ms (started: 2021-10-20 16:51:41 +00:00)\n"
          ]
        }
      ]
    },
    {
      "cell_type": "markdown",
      "metadata": {
        "id": "qsqVubA6N4AX"
      },
      "source": [
        "Begin Inference Model"
      ]
    },
    {
      "cell_type": "code",
      "metadata": {
        "colab": {
          "base_uri": "https://localhost:8080/"
        },
        "id": "Q-_N0eMxN8Se",
        "outputId": "bbba14af-c945-492b-a48f-66e76358e636"
      },
      "source": [
        "encoder_model = Model(encoder_inputs, encoder_states)"
      ],
      "execution_count": null,
      "outputs": [
        {
          "output_type": "stream",
          "name": "stdout",
          "text": [
            "time: 6.51 ms (started: 2021-10-20 16:51:41 +00:00)\n"
          ]
        }
      ]
    },
    {
      "cell_type": "code",
      "metadata": {
        "colab": {
          "base_uri": "https://localhost:8080/"
        },
        "id": "nR75u1j0N-e2",
        "outputId": "9f415eec-f740-4a4a-c16a-77004aa5e082"
      },
      "source": [
        "decoder_state_input_h = Input(shape=(LSTMoutputDimension,))\n",
        "decoder_state_input_c = Input(shape=(LSTMoutputDimension,))\n",
        "decoder_states_inputs = [decoder_state_input_h, decoder_state_input_c]\n",
        "\n",
        "\n",
        "decoder1_outputs, _, _= decoder_lstm1(decoder_inputs,\n",
        "                                     initial_state=decoder_states_inputs)\n",
        "decoder_outputs, state_h, state_c = decoder_lstm2(decoder1_outputs)\n",
        "\n",
        "decoder_states = [state_h, state_c]\n",
        "decoder_outputs = decoder_dense(decoder_outputs)\n",
        "decoder_model = Model(\n",
        "    [decoder_inputs] + decoder_states_inputs,\n",
        "    [decoder_outputs] + decoder_states)"
      ],
      "execution_count": null,
      "outputs": [
        {
          "output_type": "stream",
          "name": "stdout",
          "text": [
            "time: 478 ms (started: 2021-10-20 16:51:41 +00:00)\n"
          ]
        }
      ]
    },
    {
      "cell_type": "code",
      "metadata": {
        "id": "Bv2XYm4bwaGW",
        "colab": {
          "base_uri": "https://localhost:8080/"
        },
        "outputId": "06734365-f85f-42c2-a0e6-8b41224ae74f"
      },
      "source": [
        "def decode_sequence(input_seq):\n",
        "    # Encode the input as state vectors.\n",
        "    states_value = encoder_model.predict(input_seq)\n",
        "\n",
        "    # Generate empty target sequence of length 1.\n",
        "    target_seq = np.zeros((1, 12, 11)) \n",
        "\n",
        "    # Sampling loop for a batch of sequences\n",
        "    # (to simplify, here we assume a batch of size 1).\n",
        "    stop_condition = False\n",
        "    decoded_seq = list()\n",
        "    while not stop_condition:\n",
        "\n",
        "        # in a loop\n",
        "        # decode the input to a token/output prediction + required states for context vector\n",
        "        output_tokens, h, c = decoder_model.predict(\n",
        "            [target_seq] + states_value)\n",
        "\n",
        "        # convert the token/output prediction to a token/output\n",
        "        sampled_token_index = output_tokens[0, -1, :]\n",
        "        sampled_char = sampled_token_index\n",
        "        # add the predicted token/output to output sequence\n",
        "        decoded_seq.append(sampled_char)\n",
        "        \n",
        "\n",
        "        # Exit condition: either hit max length\n",
        "        # or find stop character.\n",
        "        if (sampled_char[-4] <= 0.01):\n",
        "            stop_condition = True\n",
        "\n",
        "        # Update the input target sequence (of length 1) \n",
        "        # with the predicted token/output \n",
        "        target_seq[0, 0, :] = sampled_char[:]\n",
        "\n",
        "        # Update input states (context vector) \n",
        "        # with the ouputed states\n",
        "        states_value = [h, c]\n",
        "\n",
        "        # loop back.....\n",
        "        \n",
        "    # when loop exists return the output sequence\n",
        "    return decoded_seq"
      ],
      "execution_count": null,
      "outputs": [
        {
          "output_type": "stream",
          "name": "stdout",
          "text": [
            "time: 19.4 ms (started: 2021-10-20 16:51:42 +00:00)\n"
          ]
        }
      ]
    },
    {
      "cell_type": "code",
      "metadata": {
        "id": "qiUZirV005cY",
        "colab": {
          "base_uri": "https://localhost:8080/",
          "height": 697
        },
        "outputId": "2a6a6dba-10f2-4664-81d6-1c0a45491bbf"
      },
      "source": [
        "decode_sequence(X_test[:1])"
      ],
      "execution_count": null,
      "outputs": [
        {
          "output_type": "error",
          "ename": "ValueError",
          "evalue": "ignored",
          "traceback": [
            "\u001b[0;31m---------------------------------------------------------------------------\u001b[0m",
            "\u001b[0;31mValueError\u001b[0m                                Traceback (most recent call last)",
            "\u001b[0;32m<ipython-input-110-14108b52cf6b>\u001b[0m in \u001b[0;36m<module>\u001b[0;34m()\u001b[0m\n\u001b[0;32m----> 1\u001b[0;31m \u001b[0mdecode_sequence\u001b[0m\u001b[0;34m(\u001b[0m\u001b[0mX_test\u001b[0m\u001b[0;34m[\u001b[0m\u001b[0;34m:\u001b[0m\u001b[0;36m1\u001b[0m\u001b[0;34m]\u001b[0m\u001b[0;34m)\u001b[0m\u001b[0;34m\u001b[0m\u001b[0;34m\u001b[0m\u001b[0m\n\u001b[0m",
            "\u001b[0;32m<ipython-input-109-c57a5603d1dc>\u001b[0m in \u001b[0;36mdecode_sequence\u001b[0;34m(input_seq)\u001b[0m\n\u001b[1;32m     15\u001b[0m         \u001b[0;31m# decode the input to a token/output prediction + required states for context vector\u001b[0m\u001b[0;34m\u001b[0m\u001b[0;34m\u001b[0m\u001b[0;34m\u001b[0m\u001b[0m\n\u001b[1;32m     16\u001b[0m         output_tokens, h, c = decoder_model.predict(\n\u001b[0;32m---> 17\u001b[0;31m             [target_seq] + states_value)\n\u001b[0m\u001b[1;32m     18\u001b[0m \u001b[0;34m\u001b[0m\u001b[0m\n\u001b[1;32m     19\u001b[0m         \u001b[0;31m# convert the token/output prediction to a token/output\u001b[0m\u001b[0;34m\u001b[0m\u001b[0;34m\u001b[0m\u001b[0;34m\u001b[0m\u001b[0m\n",
            "\u001b[0;32m/usr/local/lib/python3.7/dist-packages/keras/engine/training.py\u001b[0m in \u001b[0;36mpredict\u001b[0;34m(self, x, batch_size, verbose, steps, callbacks, max_queue_size, workers, use_multiprocessing)\u001b[0m\n\u001b[1;32m   1749\u001b[0m           \u001b[0;32mfor\u001b[0m \u001b[0mstep\u001b[0m \u001b[0;32min\u001b[0m \u001b[0mdata_handler\u001b[0m\u001b[0;34m.\u001b[0m\u001b[0msteps\u001b[0m\u001b[0;34m(\u001b[0m\u001b[0;34m)\u001b[0m\u001b[0;34m:\u001b[0m\u001b[0;34m\u001b[0m\u001b[0;34m\u001b[0m\u001b[0m\n\u001b[1;32m   1750\u001b[0m             \u001b[0mcallbacks\u001b[0m\u001b[0;34m.\u001b[0m\u001b[0mon_predict_batch_begin\u001b[0m\u001b[0;34m(\u001b[0m\u001b[0mstep\u001b[0m\u001b[0;34m)\u001b[0m\u001b[0;34m\u001b[0m\u001b[0;34m\u001b[0m\u001b[0m\n\u001b[0;32m-> 1751\u001b[0;31m             \u001b[0mtmp_batch_outputs\u001b[0m \u001b[0;34m=\u001b[0m \u001b[0mself\u001b[0m\u001b[0;34m.\u001b[0m\u001b[0mpredict_function\u001b[0m\u001b[0;34m(\u001b[0m\u001b[0miterator\u001b[0m\u001b[0;34m)\u001b[0m\u001b[0;34m\u001b[0m\u001b[0;34m\u001b[0m\u001b[0m\n\u001b[0m\u001b[1;32m   1752\u001b[0m             \u001b[0;32mif\u001b[0m \u001b[0mdata_handler\u001b[0m\u001b[0;34m.\u001b[0m\u001b[0mshould_sync\u001b[0m\u001b[0;34m:\u001b[0m\u001b[0;34m\u001b[0m\u001b[0;34m\u001b[0m\u001b[0m\n\u001b[1;32m   1753\u001b[0m               \u001b[0mcontext\u001b[0m\u001b[0;34m.\u001b[0m\u001b[0masync_wait\u001b[0m\u001b[0;34m(\u001b[0m\u001b[0;34m)\u001b[0m\u001b[0;34m\u001b[0m\u001b[0;34m\u001b[0m\u001b[0m\n",
            "\u001b[0;32m/usr/local/lib/python3.7/dist-packages/tensorflow/python/eager/def_function.py\u001b[0m in \u001b[0;36m__call__\u001b[0;34m(self, *args, **kwds)\u001b[0m\n\u001b[1;32m    883\u001b[0m \u001b[0;34m\u001b[0m\u001b[0m\n\u001b[1;32m    884\u001b[0m       \u001b[0;32mwith\u001b[0m \u001b[0mOptionalXlaContext\u001b[0m\u001b[0;34m(\u001b[0m\u001b[0mself\u001b[0m\u001b[0;34m.\u001b[0m\u001b[0m_jit_compile\u001b[0m\u001b[0;34m)\u001b[0m\u001b[0;34m:\u001b[0m\u001b[0;34m\u001b[0m\u001b[0;34m\u001b[0m\u001b[0m\n\u001b[0;32m--> 885\u001b[0;31m         \u001b[0mresult\u001b[0m \u001b[0;34m=\u001b[0m \u001b[0mself\u001b[0m\u001b[0;34m.\u001b[0m\u001b[0m_call\u001b[0m\u001b[0;34m(\u001b[0m\u001b[0;34m*\u001b[0m\u001b[0margs\u001b[0m\u001b[0;34m,\u001b[0m \u001b[0;34m**\u001b[0m\u001b[0mkwds\u001b[0m\u001b[0;34m)\u001b[0m\u001b[0;34m\u001b[0m\u001b[0;34m\u001b[0m\u001b[0m\n\u001b[0m\u001b[1;32m    886\u001b[0m \u001b[0;34m\u001b[0m\u001b[0m\n\u001b[1;32m    887\u001b[0m       \u001b[0mnew_tracing_count\u001b[0m \u001b[0;34m=\u001b[0m \u001b[0mself\u001b[0m\u001b[0;34m.\u001b[0m\u001b[0mexperimental_get_tracing_count\u001b[0m\u001b[0;34m(\u001b[0m\u001b[0;34m)\u001b[0m\u001b[0;34m\u001b[0m\u001b[0;34m\u001b[0m\u001b[0m\n",
            "\u001b[0;32m/usr/local/lib/python3.7/dist-packages/tensorflow/python/eager/def_function.py\u001b[0m in \u001b[0;36m_call\u001b[0;34m(self, *args, **kwds)\u001b[0m\n\u001b[1;32m    931\u001b[0m       \u001b[0;31m# This is the first call of __call__, so we have to initialize.\u001b[0m\u001b[0;34m\u001b[0m\u001b[0;34m\u001b[0m\u001b[0;34m\u001b[0m\u001b[0m\n\u001b[1;32m    932\u001b[0m       \u001b[0minitializers\u001b[0m \u001b[0;34m=\u001b[0m \u001b[0;34m[\u001b[0m\u001b[0;34m]\u001b[0m\u001b[0;34m\u001b[0m\u001b[0;34m\u001b[0m\u001b[0m\n\u001b[0;32m--> 933\u001b[0;31m       \u001b[0mself\u001b[0m\u001b[0;34m.\u001b[0m\u001b[0m_initialize\u001b[0m\u001b[0;34m(\u001b[0m\u001b[0margs\u001b[0m\u001b[0;34m,\u001b[0m \u001b[0mkwds\u001b[0m\u001b[0;34m,\u001b[0m \u001b[0madd_initializers_to\u001b[0m\u001b[0;34m=\u001b[0m\u001b[0minitializers\u001b[0m\u001b[0;34m)\u001b[0m\u001b[0;34m\u001b[0m\u001b[0;34m\u001b[0m\u001b[0m\n\u001b[0m\u001b[1;32m    934\u001b[0m     \u001b[0;32mfinally\u001b[0m\u001b[0;34m:\u001b[0m\u001b[0;34m\u001b[0m\u001b[0;34m\u001b[0m\u001b[0m\n\u001b[1;32m    935\u001b[0m       \u001b[0;31m# At this point we know that the initialization is complete (or less\u001b[0m\u001b[0;34m\u001b[0m\u001b[0;34m\u001b[0m\u001b[0;34m\u001b[0m\u001b[0m\n",
            "\u001b[0;32m/usr/local/lib/python3.7/dist-packages/tensorflow/python/eager/def_function.py\u001b[0m in \u001b[0;36m_initialize\u001b[0;34m(self, args, kwds, add_initializers_to)\u001b[0m\n\u001b[1;32m    758\u001b[0m     self._concrete_stateful_fn = (\n\u001b[1;32m    759\u001b[0m         self._stateful_fn._get_concrete_function_internal_garbage_collected(  # pylint: disable=protected-access\n\u001b[0;32m--> 760\u001b[0;31m             *args, **kwds))\n\u001b[0m\u001b[1;32m    761\u001b[0m \u001b[0;34m\u001b[0m\u001b[0m\n\u001b[1;32m    762\u001b[0m     \u001b[0;32mdef\u001b[0m \u001b[0minvalid_creator_scope\u001b[0m\u001b[0;34m(\u001b[0m\u001b[0;34m*\u001b[0m\u001b[0munused_args\u001b[0m\u001b[0;34m,\u001b[0m \u001b[0;34m**\u001b[0m\u001b[0munused_kwds\u001b[0m\u001b[0;34m)\u001b[0m\u001b[0;34m:\u001b[0m\u001b[0;34m\u001b[0m\u001b[0;34m\u001b[0m\u001b[0m\n",
            "\u001b[0;32m/usr/local/lib/python3.7/dist-packages/tensorflow/python/eager/function.py\u001b[0m in \u001b[0;36m_get_concrete_function_internal_garbage_collected\u001b[0;34m(self, *args, **kwargs)\u001b[0m\n\u001b[1;32m   3064\u001b[0m       \u001b[0margs\u001b[0m\u001b[0;34m,\u001b[0m \u001b[0mkwargs\u001b[0m \u001b[0;34m=\u001b[0m \u001b[0;32mNone\u001b[0m\u001b[0;34m,\u001b[0m \u001b[0;32mNone\u001b[0m\u001b[0;34m\u001b[0m\u001b[0;34m\u001b[0m\u001b[0m\n\u001b[1;32m   3065\u001b[0m     \u001b[0;32mwith\u001b[0m \u001b[0mself\u001b[0m\u001b[0;34m.\u001b[0m\u001b[0m_lock\u001b[0m\u001b[0;34m:\u001b[0m\u001b[0;34m\u001b[0m\u001b[0;34m\u001b[0m\u001b[0m\n\u001b[0;32m-> 3066\u001b[0;31m       \u001b[0mgraph_function\u001b[0m\u001b[0;34m,\u001b[0m \u001b[0m_\u001b[0m \u001b[0;34m=\u001b[0m \u001b[0mself\u001b[0m\u001b[0;34m.\u001b[0m\u001b[0m_maybe_define_function\u001b[0m\u001b[0;34m(\u001b[0m\u001b[0margs\u001b[0m\u001b[0;34m,\u001b[0m \u001b[0mkwargs\u001b[0m\u001b[0;34m)\u001b[0m\u001b[0;34m\u001b[0m\u001b[0;34m\u001b[0m\u001b[0m\n\u001b[0m\u001b[1;32m   3067\u001b[0m     \u001b[0;32mreturn\u001b[0m \u001b[0mgraph_function\u001b[0m\u001b[0;34m\u001b[0m\u001b[0;34m\u001b[0m\u001b[0m\n\u001b[1;32m   3068\u001b[0m \u001b[0;34m\u001b[0m\u001b[0m\n",
            "\u001b[0;32m/usr/local/lib/python3.7/dist-packages/tensorflow/python/eager/function.py\u001b[0m in \u001b[0;36m_maybe_define_function\u001b[0;34m(self, args, kwargs)\u001b[0m\n\u001b[1;32m   3461\u001b[0m \u001b[0;34m\u001b[0m\u001b[0m\n\u001b[1;32m   3462\u001b[0m           \u001b[0mself\u001b[0m\u001b[0;34m.\u001b[0m\u001b[0m_function_cache\u001b[0m\u001b[0;34m.\u001b[0m\u001b[0mmissed\u001b[0m\u001b[0;34m.\u001b[0m\u001b[0madd\u001b[0m\u001b[0;34m(\u001b[0m\u001b[0mcall_context_key\u001b[0m\u001b[0;34m)\u001b[0m\u001b[0;34m\u001b[0m\u001b[0;34m\u001b[0m\u001b[0m\n\u001b[0;32m-> 3463\u001b[0;31m           \u001b[0mgraph_function\u001b[0m \u001b[0;34m=\u001b[0m \u001b[0mself\u001b[0m\u001b[0;34m.\u001b[0m\u001b[0m_create_graph_function\u001b[0m\u001b[0;34m(\u001b[0m\u001b[0margs\u001b[0m\u001b[0;34m,\u001b[0m \u001b[0mkwargs\u001b[0m\u001b[0;34m)\u001b[0m\u001b[0;34m\u001b[0m\u001b[0;34m\u001b[0m\u001b[0m\n\u001b[0m\u001b[1;32m   3464\u001b[0m           \u001b[0mself\u001b[0m\u001b[0;34m.\u001b[0m\u001b[0m_function_cache\u001b[0m\u001b[0;34m.\u001b[0m\u001b[0mprimary\u001b[0m\u001b[0;34m[\u001b[0m\u001b[0mcache_key\u001b[0m\u001b[0;34m]\u001b[0m \u001b[0;34m=\u001b[0m \u001b[0mgraph_function\u001b[0m\u001b[0;34m\u001b[0m\u001b[0;34m\u001b[0m\u001b[0m\n\u001b[1;32m   3465\u001b[0m \u001b[0;34m\u001b[0m\u001b[0m\n",
            "\u001b[0;32m/usr/local/lib/python3.7/dist-packages/tensorflow/python/eager/function.py\u001b[0m in \u001b[0;36m_create_graph_function\u001b[0;34m(self, args, kwargs, override_flat_arg_shapes)\u001b[0m\n\u001b[1;32m   3306\u001b[0m             \u001b[0marg_names\u001b[0m\u001b[0;34m=\u001b[0m\u001b[0marg_names\u001b[0m\u001b[0;34m,\u001b[0m\u001b[0;34m\u001b[0m\u001b[0;34m\u001b[0m\u001b[0m\n\u001b[1;32m   3307\u001b[0m             \u001b[0moverride_flat_arg_shapes\u001b[0m\u001b[0;34m=\u001b[0m\u001b[0moverride_flat_arg_shapes\u001b[0m\u001b[0;34m,\u001b[0m\u001b[0;34m\u001b[0m\u001b[0;34m\u001b[0m\u001b[0m\n\u001b[0;32m-> 3308\u001b[0;31m             capture_by_value=self._capture_by_value),\n\u001b[0m\u001b[1;32m   3309\u001b[0m         \u001b[0mself\u001b[0m\u001b[0;34m.\u001b[0m\u001b[0m_function_attributes\u001b[0m\u001b[0;34m,\u001b[0m\u001b[0;34m\u001b[0m\u001b[0;34m\u001b[0m\u001b[0m\n\u001b[1;32m   3310\u001b[0m         \u001b[0mfunction_spec\u001b[0m\u001b[0;34m=\u001b[0m\u001b[0mself\u001b[0m\u001b[0;34m.\u001b[0m\u001b[0mfunction_spec\u001b[0m\u001b[0;34m,\u001b[0m\u001b[0;34m\u001b[0m\u001b[0;34m\u001b[0m\u001b[0m\n",
            "\u001b[0;32m/usr/local/lib/python3.7/dist-packages/tensorflow/python/framework/func_graph.py\u001b[0m in \u001b[0;36mfunc_graph_from_py_func\u001b[0;34m(name, python_func, args, kwargs, signature, func_graph, autograph, autograph_options, add_control_dependencies, arg_names, op_return_value, collections, capture_by_value, override_flat_arg_shapes, acd_record_initial_resource_uses)\u001b[0m\n\u001b[1;32m   1005\u001b[0m         \u001b[0m_\u001b[0m\u001b[0;34m,\u001b[0m \u001b[0moriginal_func\u001b[0m \u001b[0;34m=\u001b[0m \u001b[0mtf_decorator\u001b[0m\u001b[0;34m.\u001b[0m\u001b[0munwrap\u001b[0m\u001b[0;34m(\u001b[0m\u001b[0mpython_func\u001b[0m\u001b[0;34m)\u001b[0m\u001b[0;34m\u001b[0m\u001b[0;34m\u001b[0m\u001b[0m\n\u001b[1;32m   1006\u001b[0m \u001b[0;34m\u001b[0m\u001b[0m\n\u001b[0;32m-> 1007\u001b[0;31m       \u001b[0mfunc_outputs\u001b[0m \u001b[0;34m=\u001b[0m \u001b[0mpython_func\u001b[0m\u001b[0;34m(\u001b[0m\u001b[0;34m*\u001b[0m\u001b[0mfunc_args\u001b[0m\u001b[0;34m,\u001b[0m \u001b[0;34m**\u001b[0m\u001b[0mfunc_kwargs\u001b[0m\u001b[0;34m)\u001b[0m\u001b[0;34m\u001b[0m\u001b[0;34m\u001b[0m\u001b[0m\n\u001b[0m\u001b[1;32m   1008\u001b[0m \u001b[0;34m\u001b[0m\u001b[0m\n\u001b[1;32m   1009\u001b[0m       \u001b[0;31m# invariant: `func_outputs` contains only Tensors, CompositeTensors,\u001b[0m\u001b[0;34m\u001b[0m\u001b[0;34m\u001b[0m\u001b[0;34m\u001b[0m\u001b[0m\n",
            "\u001b[0;32m/usr/local/lib/python3.7/dist-packages/tensorflow/python/eager/def_function.py\u001b[0m in \u001b[0;36mwrapped_fn\u001b[0;34m(*args, **kwds)\u001b[0m\n\u001b[1;32m    666\u001b[0m         \u001b[0;31m# the function a weak reference to itself to avoid a reference cycle.\u001b[0m\u001b[0;34m\u001b[0m\u001b[0;34m\u001b[0m\u001b[0;34m\u001b[0m\u001b[0m\n\u001b[1;32m    667\u001b[0m         \u001b[0;32mwith\u001b[0m \u001b[0mOptionalXlaContext\u001b[0m\u001b[0;34m(\u001b[0m\u001b[0mcompile_with_xla\u001b[0m\u001b[0;34m)\u001b[0m\u001b[0;34m:\u001b[0m\u001b[0;34m\u001b[0m\u001b[0;34m\u001b[0m\u001b[0m\n\u001b[0;32m--> 668\u001b[0;31m           \u001b[0mout\u001b[0m \u001b[0;34m=\u001b[0m \u001b[0mweak_wrapped_fn\u001b[0m\u001b[0;34m(\u001b[0m\u001b[0;34m)\u001b[0m\u001b[0;34m.\u001b[0m\u001b[0m__wrapped__\u001b[0m\u001b[0;34m(\u001b[0m\u001b[0;34m*\u001b[0m\u001b[0margs\u001b[0m\u001b[0;34m,\u001b[0m \u001b[0;34m**\u001b[0m\u001b[0mkwds\u001b[0m\u001b[0;34m)\u001b[0m\u001b[0;34m\u001b[0m\u001b[0;34m\u001b[0m\u001b[0m\n\u001b[0m\u001b[1;32m    669\u001b[0m         \u001b[0;32mreturn\u001b[0m \u001b[0mout\u001b[0m\u001b[0;34m\u001b[0m\u001b[0;34m\u001b[0m\u001b[0m\n\u001b[1;32m    670\u001b[0m \u001b[0;34m\u001b[0m\u001b[0m\n",
            "\u001b[0;32m/usr/local/lib/python3.7/dist-packages/tensorflow/python/framework/func_graph.py\u001b[0m in \u001b[0;36mwrapper\u001b[0;34m(*args, **kwargs)\u001b[0m\n\u001b[1;32m    992\u001b[0m           \u001b[0;32mexcept\u001b[0m \u001b[0mException\u001b[0m \u001b[0;32mas\u001b[0m \u001b[0me\u001b[0m\u001b[0;34m:\u001b[0m  \u001b[0;31m# pylint:disable=broad-except\u001b[0m\u001b[0;34m\u001b[0m\u001b[0;34m\u001b[0m\u001b[0m\n\u001b[1;32m    993\u001b[0m             \u001b[0;32mif\u001b[0m \u001b[0mhasattr\u001b[0m\u001b[0;34m(\u001b[0m\u001b[0me\u001b[0m\u001b[0;34m,\u001b[0m \u001b[0;34m\"ag_error_metadata\"\u001b[0m\u001b[0;34m)\u001b[0m\u001b[0;34m:\u001b[0m\u001b[0;34m\u001b[0m\u001b[0;34m\u001b[0m\u001b[0m\n\u001b[0;32m--> 994\u001b[0;31m               \u001b[0;32mraise\u001b[0m \u001b[0me\u001b[0m\u001b[0;34m.\u001b[0m\u001b[0mag_error_metadata\u001b[0m\u001b[0;34m.\u001b[0m\u001b[0mto_exception\u001b[0m\u001b[0;34m(\u001b[0m\u001b[0me\u001b[0m\u001b[0;34m)\u001b[0m\u001b[0;34m\u001b[0m\u001b[0;34m\u001b[0m\u001b[0m\n\u001b[0m\u001b[1;32m    995\u001b[0m             \u001b[0;32melse\u001b[0m\u001b[0;34m:\u001b[0m\u001b[0;34m\u001b[0m\u001b[0;34m\u001b[0m\u001b[0m\n\u001b[1;32m    996\u001b[0m               \u001b[0;32mraise\u001b[0m\u001b[0;34m\u001b[0m\u001b[0;34m\u001b[0m\u001b[0m\n",
            "\u001b[0;31mValueError\u001b[0m: in user code:\n\n    /usr/local/lib/python3.7/dist-packages/keras/engine/training.py:1586 predict_function  *\n        return step_function(self, iterator)\n    /usr/local/lib/python3.7/dist-packages/keras/engine/training.py:1576 step_function  **\n        outputs = model.distribute_strategy.run(run_step, args=(data,))\n    /usr/local/lib/python3.7/dist-packages/tensorflow/python/distribute/distribute_lib.py:1286 run\n        return self._extended.call_for_each_replica(fn, args=args, kwargs=kwargs)\n    /usr/local/lib/python3.7/dist-packages/tensorflow/python/distribute/distribute_lib.py:2849 call_for_each_replica\n        return self._call_for_each_replica(fn, args, kwargs)\n    /usr/local/lib/python3.7/dist-packages/tensorflow/python/distribute/distribute_lib.py:3632 _call_for_each_replica\n        return fn(*args, **kwargs)\n    /usr/local/lib/python3.7/dist-packages/keras/engine/training.py:1569 run_step  **\n        outputs = model.predict_step(data)\n    /usr/local/lib/python3.7/dist-packages/keras/engine/training.py:1537 predict_step\n        return self(x, training=False)\n    /usr/local/lib/python3.7/dist-packages/keras/engine/base_layer.py:1020 __call__\n        input_spec.assert_input_compatibility(self.input_spec, inputs, self.name)\n    /usr/local/lib/python3.7/dist-packages/keras/engine/input_spec.py:269 assert_input_compatibility\n        ', found shape=' + display_shape(x.shape))\n\n    ValueError: Input 0 is incompatible with layer model_7: expected shape=(None, 10, 1), found shape=(None, 12, 11)\n"
          ]
        },
        {
          "output_type": "stream",
          "name": "stdout",
          "text": [
            "time: 2.07 s (started: 2021-10-20 16:51:42 +00:00)\n"
          ]
        }
      ]
    }
  ]
}